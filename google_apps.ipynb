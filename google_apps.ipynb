{
  "nbformat": 4,
  "nbformat_minor": 0,
  "metadata": {
    "colab": {
      "name": "google_apps.ipynb",
      "provenance": [],
      "toc_visible": true
    },
    "kernelspec": {
      "name": "python3",
      "display_name": "Python 3"
    },
    "language_info": {
      "name": "python"
    }
  },
  "cells": [
    {
      "cell_type": "code",
      "metadata": {
        "id": "zAMJAh2qCOlg"
      },
      "source": [
        "import pandas as pd\n",
        "from sklearn import preprocessing\n",
        "import matplotlib.pyplot as plt\n",
        "import numpy as np\n",
        "import seaborn as sns\n",
        "import scipy.stats\n",
        "import datetime\n",
        "pd.set_option('display.max_columns', None)"
      ],
      "execution_count": 1,
      "outputs": []
    },
    {
      "cell_type": "markdown",
      "metadata": {
        "id": "X0QySOb0E7V7"
      },
      "source": [
        "Чтение данных"
      ]
    },
    {
      "cell_type": "code",
      "metadata": {
        "id": "xOi6M8zACmK6"
      },
      "source": [
        "apps = pd.read_csv('/content/googleplaystore.csv')\n",
        "reviews = pd.read_csv('/content/googleplaystore_user_reviews.csv')"
      ],
      "execution_count": 2,
      "outputs": []
    },
    {
      "cell_type": "markdown",
      "metadata": {
        "id": "w1m4buzMJvrH"
      },
      "source": [
        "# Проведите очистку данных и необходимые преобразования для последующего анализа. Сделайте первичное исследование данных."
      ]
    },
    {
      "cell_type": "markdown",
      "metadata": {
        "id": "ata4h525E-hq"
      },
      "source": [
        "Очистка данных, преобразование, первичное исследование"
      ]
    },
    {
      "cell_type": "code",
      "metadata": {
        "colab": {
          "base_uri": "https://localhost:8080/"
        },
        "id": "IFTOGoDtC5ys",
        "outputId": "0be6a6d3-5eab-47b6-b840-21c2dd661f22"
      },
      "source": [
        "apps.nunique()"
      ],
      "execution_count": 3,
      "outputs": [
        {
          "output_type": "execute_result",
          "data": {
            "text/plain": [
              "App               9660\n",
              "Category            34\n",
              "Rating              40\n",
              "Reviews           6002\n",
              "Size               462\n",
              "Installs            22\n",
              "Type                 3\n",
              "Price               93\n",
              "Content Rating       6\n",
              "Genres             120\n",
              "Last Updated      1378\n",
              "Current Ver       2832\n",
              "Android Ver         33\n",
              "dtype: int64"
            ]
          },
          "metadata": {
            "tags": []
          },
          "execution_count": 3
        }
      ]
    },
    {
      "cell_type": "code",
      "metadata": {
        "colab": {
          "base_uri": "https://localhost:8080/"
        },
        "id": "oFLlOdctIrHh",
        "outputId": "ccb093b5-16a8-47ca-87ea-4eb980feaf49"
      },
      "source": [
        "apps.info()"
      ],
      "execution_count": 4,
      "outputs": [
        {
          "output_type": "stream",
          "text": [
            "<class 'pandas.core.frame.DataFrame'>\n",
            "RangeIndex: 10841 entries, 0 to 10840\n",
            "Data columns (total 13 columns):\n",
            " #   Column          Non-Null Count  Dtype  \n",
            "---  ------          --------------  -----  \n",
            " 0   App             10841 non-null  object \n",
            " 1   Category        10841 non-null  object \n",
            " 2   Rating          9367 non-null   float64\n",
            " 3   Reviews         10841 non-null  object \n",
            " 4   Size            10841 non-null  object \n",
            " 5   Installs        10841 non-null  object \n",
            " 6   Type            10840 non-null  object \n",
            " 7   Price           10841 non-null  object \n",
            " 8   Content Rating  10840 non-null  object \n",
            " 9   Genres          10841 non-null  object \n",
            " 10  Last Updated    10841 non-null  object \n",
            " 11  Current Ver     10833 non-null  object \n",
            " 12  Android Ver     10838 non-null  object \n",
            "dtypes: float64(1), object(12)\n",
            "memory usage: 1.1+ MB\n"
          ],
          "name": "stdout"
        }
      ]
    },
    {
      "cell_type": "markdown",
      "metadata": {
        "id": "uPyD1uVTmpI_"
      },
      "source": [
        "Переведем формат последней даты обновления в datetime и заполним пропуски средним"
      ]
    },
    {
      "cell_type": "code",
      "metadata": {
        "id": "z5ELPnA_cR5Q"
      },
      "source": [
        "apps['Last Updated'] = pd.to_datetime(apps['Last Updated'], format = '%B %d, %Y',errors = 'coerce')\n",
        "apps['Last Updated'] = apps['Last Updated'].fillna(apps['Last Updated'].mean())"
      ],
      "execution_count": 5,
      "outputs": []
    },
    {
      "cell_type": "markdown",
      "metadata": {
        "id": "fZJ7NFuzHsjv"
      },
      "source": [
        "Как можем заметить, число уникальных названий приложений меньше общего числа приложений, причём пустых ячеек нет. \n",
        "Посмотрим на копии приложений"
      ]
    },
    {
      "cell_type": "code",
      "metadata": {
        "colab": {
          "base_uri": "https://localhost:8080/"
        },
        "id": "UBMvqyyIC6Wo",
        "outputId": "b4ac7e43-6fea-475b-9d7c-1eaa6ef2a471"
      },
      "source": [
        "apps.groupby('App').size().sort_values(ascending = False)"
      ],
      "execution_count": 6,
      "outputs": [
        {
          "output_type": "execute_result",
          "data": {
            "text/plain": [
              "App\n",
              "ROBLOX                                                9\n",
              "CBS Sports App - Scores, News, Stats & Watch Live     8\n",
              "ESPN                                                  7\n",
              "Duolingo: Learn Languages Free                        7\n",
              "Candy Crush Saga                                      7\n",
              "                                                     ..\n",
              "Monster Fishing 2018                                  1\n",
              "Monster High™ Minis Mania                             1\n",
              "Monster Park AR - Jurassic Dinosaurs in Real World    1\n",
              "Monster Ride Pro                                      1\n",
              "\"i DT\" Fútbol. Todos Somos Técnicos.                  1\n",
              "Length: 9660, dtype: int64"
            ]
          },
          "metadata": {
            "tags": []
          },
          "execution_count": 6
        }
      ]
    },
    {
      "cell_type": "code",
      "metadata": {
        "colab": {
          "base_uri": "https://localhost:8080/",
          "height": 482
        },
        "id": "3hUigVnYDptb",
        "outputId": "eff70e9c-2819-497b-a87f-ce259ce0f08b"
      },
      "source": [
        "apps[apps.App == 'ROBLOX']"
      ],
      "execution_count": 7,
      "outputs": [
        {
          "output_type": "execute_result",
          "data": {
            "text/html": [
              "<div>\n",
              "<style scoped>\n",
              "    .dataframe tbody tr th:only-of-type {\n",
              "        vertical-align: middle;\n",
              "    }\n",
              "\n",
              "    .dataframe tbody tr th {\n",
              "        vertical-align: top;\n",
              "    }\n",
              "\n",
              "    .dataframe thead th {\n",
              "        text-align: right;\n",
              "    }\n",
              "</style>\n",
              "<table border=\"1\" class=\"dataframe\">\n",
              "  <thead>\n",
              "    <tr style=\"text-align: right;\">\n",
              "      <th></th>\n",
              "      <th>App</th>\n",
              "      <th>Category</th>\n",
              "      <th>Rating</th>\n",
              "      <th>Reviews</th>\n",
              "      <th>Size</th>\n",
              "      <th>Installs</th>\n",
              "      <th>Type</th>\n",
              "      <th>Price</th>\n",
              "      <th>Content Rating</th>\n",
              "      <th>Genres</th>\n",
              "      <th>Last Updated</th>\n",
              "      <th>Current Ver</th>\n",
              "      <th>Android Ver</th>\n",
              "    </tr>\n",
              "  </thead>\n",
              "  <tbody>\n",
              "    <tr>\n",
              "      <th>1653</th>\n",
              "      <td>ROBLOX</td>\n",
              "      <td>GAME</td>\n",
              "      <td>4.5</td>\n",
              "      <td>4447388</td>\n",
              "      <td>67M</td>\n",
              "      <td>100,000,000+</td>\n",
              "      <td>Free</td>\n",
              "      <td>0</td>\n",
              "      <td>Everyone 10+</td>\n",
              "      <td>Adventure;Action &amp; Adventure</td>\n",
              "      <td>2018-07-31</td>\n",
              "      <td>2.347.225742</td>\n",
              "      <td>4.1 and up</td>\n",
              "    </tr>\n",
              "    <tr>\n",
              "      <th>1701</th>\n",
              "      <td>ROBLOX</td>\n",
              "      <td>GAME</td>\n",
              "      <td>4.5</td>\n",
              "      <td>4447346</td>\n",
              "      <td>67M</td>\n",
              "      <td>100,000,000+</td>\n",
              "      <td>Free</td>\n",
              "      <td>0</td>\n",
              "      <td>Everyone 10+</td>\n",
              "      <td>Adventure;Action &amp; Adventure</td>\n",
              "      <td>2018-07-31</td>\n",
              "      <td>2.347.225742</td>\n",
              "      <td>4.1 and up</td>\n",
              "    </tr>\n",
              "    <tr>\n",
              "      <th>1748</th>\n",
              "      <td>ROBLOX</td>\n",
              "      <td>GAME</td>\n",
              "      <td>4.5</td>\n",
              "      <td>4448791</td>\n",
              "      <td>67M</td>\n",
              "      <td>100,000,000+</td>\n",
              "      <td>Free</td>\n",
              "      <td>0</td>\n",
              "      <td>Everyone 10+</td>\n",
              "      <td>Adventure;Action &amp; Adventure</td>\n",
              "      <td>2018-07-31</td>\n",
              "      <td>2.347.225742</td>\n",
              "      <td>4.1 and up</td>\n",
              "    </tr>\n",
              "    <tr>\n",
              "      <th>1841</th>\n",
              "      <td>ROBLOX</td>\n",
              "      <td>GAME</td>\n",
              "      <td>4.5</td>\n",
              "      <td>4449882</td>\n",
              "      <td>67M</td>\n",
              "      <td>100,000,000+</td>\n",
              "      <td>Free</td>\n",
              "      <td>0</td>\n",
              "      <td>Everyone 10+</td>\n",
              "      <td>Adventure;Action &amp; Adventure</td>\n",
              "      <td>2018-07-31</td>\n",
              "      <td>2.347.225742</td>\n",
              "      <td>4.1 and up</td>\n",
              "    </tr>\n",
              "    <tr>\n",
              "      <th>1870</th>\n",
              "      <td>ROBLOX</td>\n",
              "      <td>GAME</td>\n",
              "      <td>4.5</td>\n",
              "      <td>4449910</td>\n",
              "      <td>67M</td>\n",
              "      <td>100,000,000+</td>\n",
              "      <td>Free</td>\n",
              "      <td>0</td>\n",
              "      <td>Everyone 10+</td>\n",
              "      <td>Adventure;Action &amp; Adventure</td>\n",
              "      <td>2018-07-31</td>\n",
              "      <td>2.347.225742</td>\n",
              "      <td>4.1 and up</td>\n",
              "    </tr>\n",
              "    <tr>\n",
              "      <th>2016</th>\n",
              "      <td>ROBLOX</td>\n",
              "      <td>FAMILY</td>\n",
              "      <td>4.5</td>\n",
              "      <td>4449910</td>\n",
              "      <td>67M</td>\n",
              "      <td>100,000,000+</td>\n",
              "      <td>Free</td>\n",
              "      <td>0</td>\n",
              "      <td>Everyone 10+</td>\n",
              "      <td>Adventure;Action &amp; Adventure</td>\n",
              "      <td>2018-07-31</td>\n",
              "      <td>2.347.225742</td>\n",
              "      <td>4.1 and up</td>\n",
              "    </tr>\n",
              "    <tr>\n",
              "      <th>2088</th>\n",
              "      <td>ROBLOX</td>\n",
              "      <td>FAMILY</td>\n",
              "      <td>4.5</td>\n",
              "      <td>4450855</td>\n",
              "      <td>67M</td>\n",
              "      <td>100,000,000+</td>\n",
              "      <td>Free</td>\n",
              "      <td>0</td>\n",
              "      <td>Everyone 10+</td>\n",
              "      <td>Adventure;Action &amp; Adventure</td>\n",
              "      <td>2018-07-31</td>\n",
              "      <td>2.347.225742</td>\n",
              "      <td>4.1 and up</td>\n",
              "    </tr>\n",
              "    <tr>\n",
              "      <th>2206</th>\n",
              "      <td>ROBLOX</td>\n",
              "      <td>FAMILY</td>\n",
              "      <td>4.5</td>\n",
              "      <td>4450890</td>\n",
              "      <td>67M</td>\n",
              "      <td>100,000,000+</td>\n",
              "      <td>Free</td>\n",
              "      <td>0</td>\n",
              "      <td>Everyone 10+</td>\n",
              "      <td>Adventure;Action &amp; Adventure</td>\n",
              "      <td>2018-07-31</td>\n",
              "      <td>2.347.225742</td>\n",
              "      <td>4.1 and up</td>\n",
              "    </tr>\n",
              "    <tr>\n",
              "      <th>4527</th>\n",
              "      <td>ROBLOX</td>\n",
              "      <td>FAMILY</td>\n",
              "      <td>4.5</td>\n",
              "      <td>4443407</td>\n",
              "      <td>67M</td>\n",
              "      <td>100,000,000+</td>\n",
              "      <td>Free</td>\n",
              "      <td>0</td>\n",
              "      <td>Everyone 10+</td>\n",
              "      <td>Adventure;Action &amp; Adventure</td>\n",
              "      <td>2018-07-31</td>\n",
              "      <td>2.347.225742</td>\n",
              "      <td>4.1 and up</td>\n",
              "    </tr>\n",
              "  </tbody>\n",
              "</table>\n",
              "</div>"
            ],
            "text/plain": [
              "         App Category  Rating  Reviews Size      Installs  Type Price  \\\n",
              "1653  ROBLOX     GAME     4.5  4447388  67M  100,000,000+  Free     0   \n",
              "1701  ROBLOX     GAME     4.5  4447346  67M  100,000,000+  Free     0   \n",
              "1748  ROBLOX     GAME     4.5  4448791  67M  100,000,000+  Free     0   \n",
              "1841  ROBLOX     GAME     4.5  4449882  67M  100,000,000+  Free     0   \n",
              "1870  ROBLOX     GAME     4.5  4449910  67M  100,000,000+  Free     0   \n",
              "2016  ROBLOX   FAMILY     4.5  4449910  67M  100,000,000+  Free     0   \n",
              "2088  ROBLOX   FAMILY     4.5  4450855  67M  100,000,000+  Free     0   \n",
              "2206  ROBLOX   FAMILY     4.5  4450890  67M  100,000,000+  Free     0   \n",
              "4527  ROBLOX   FAMILY     4.5  4443407  67M  100,000,000+  Free     0   \n",
              "\n",
              "     Content Rating                        Genres Last Updated   Current Ver  \\\n",
              "1653   Everyone 10+  Adventure;Action & Adventure   2018-07-31  2.347.225742   \n",
              "1701   Everyone 10+  Adventure;Action & Adventure   2018-07-31  2.347.225742   \n",
              "1748   Everyone 10+  Adventure;Action & Adventure   2018-07-31  2.347.225742   \n",
              "1841   Everyone 10+  Adventure;Action & Adventure   2018-07-31  2.347.225742   \n",
              "1870   Everyone 10+  Adventure;Action & Adventure   2018-07-31  2.347.225742   \n",
              "2016   Everyone 10+  Adventure;Action & Adventure   2018-07-31  2.347.225742   \n",
              "2088   Everyone 10+  Adventure;Action & Adventure   2018-07-31  2.347.225742   \n",
              "2206   Everyone 10+  Adventure;Action & Adventure   2018-07-31  2.347.225742   \n",
              "4527   Everyone 10+  Adventure;Action & Adventure   2018-07-31  2.347.225742   \n",
              "\n",
              "     Android Ver  \n",
              "1653  4.1 and up  \n",
              "1701  4.1 and up  \n",
              "1748  4.1 and up  \n",
              "1841  4.1 and up  \n",
              "1870  4.1 and up  \n",
              "2016  4.1 and up  \n",
              "2088  4.1 and up  \n",
              "2206  4.1 and up  \n",
              "4527  4.1 and up  "
            ]
          },
          "metadata": {
            "tags": []
          },
          "execution_count": 7
        }
      ]
    },
    {
      "cell_type": "markdown",
      "metadata": {
        "id": "sIYPNY2aH48L"
      },
      "source": [
        "Строки одинаковые за исключением числа рецензий. Оставим в датасете строки с уникальными приложениями с максимальным числом рецензий (самая последняя информация). Остальные удалим."
      ]
    },
    {
      "cell_type": "code",
      "metadata": {
        "id": "qLA0yks8Ha_8"
      },
      "source": [
        "apps = apps[apps.groupby(['App'])['Reviews'].transform(max) == apps.Reviews]\n",
        "apps = apps[apps.groupby(['App'])['Last Updated'].transform(max) == apps['Last Updated']]\n",
        "apps = apps.drop_duplicates(subset=['App'], keep='last')"
      ],
      "execution_count": 8,
      "outputs": []
    },
    {
      "cell_type": "markdown",
      "metadata": {
        "id": "tQMPkdAum8ys"
      },
      "source": [
        "Еще раз посмотрим на наши данные и заполним оставшиеся пропуски"
      ]
    },
    {
      "cell_type": "code",
      "metadata": {
        "colab": {
          "base_uri": "https://localhost:8080/"
        },
        "id": "3ynZgOVqJapd",
        "outputId": "89b2fab9-e80d-4678-c9e6-62542e614d35"
      },
      "source": [
        "apps.info()"
      ],
      "execution_count": 9,
      "outputs": [
        {
          "output_type": "stream",
          "text": [
            "<class 'pandas.core.frame.DataFrame'>\n",
            "Int64Index: 9660 entries, 0 to 10840\n",
            "Data columns (total 13 columns):\n",
            " #   Column          Non-Null Count  Dtype         \n",
            "---  ------          --------------  -----         \n",
            " 0   App             9660 non-null   object        \n",
            " 1   Category        9660 non-null   object        \n",
            " 2   Rating          8197 non-null   float64       \n",
            " 3   Reviews         9660 non-null   object        \n",
            " 4   Size            9660 non-null   object        \n",
            " 5   Installs        9660 non-null   object        \n",
            " 6   Type            9659 non-null   object        \n",
            " 7   Price           9660 non-null   object        \n",
            " 8   Content Rating  9659 non-null   object        \n",
            " 9   Genres          9660 non-null   object        \n",
            " 10  Last Updated    9660 non-null   datetime64[ns]\n",
            " 11  Current Ver     9652 non-null   object        \n",
            " 12  Android Ver     9657 non-null   object        \n",
            "dtypes: datetime64[ns](1), float64(1), object(11)\n",
            "memory usage: 1.0+ MB\n"
          ],
          "name": "stdout"
        }
      ]
    },
    {
      "cell_type": "code",
      "metadata": {
        "id": "YxyrKON9Kpab"
      },
      "source": [
        "#Удалим наблюдения без рейтинга\n",
        "apps = apps.dropna(subset=['Rating'])"
      ],
      "execution_count": 10,
      "outputs": []
    },
    {
      "cell_type": "code",
      "metadata": {
        "id": "O_llhGaId1La"
      },
      "source": [
        "# Тип пустых значений мы не знаем - удаляем\n",
        "apps = apps.dropna(subset=['Type'])\n",
        "# Также удаляем приложения с неизвестной аудиторией\n",
        "apps = apps.dropna(subset=['Content Rating'])\n",
        "# Если не знаем версию - пусть она будет самой начальной\n",
        "apps['Current Ver'] = apps['Current Ver'].fillna('1.0.0')\n",
        "# Удаляем необходимую версию Андроида\n",
        "apps = apps.dropna(subset=['Android Ver'])"
      ],
      "execution_count": 11,
      "outputs": []
    },
    {
      "cell_type": "markdown",
      "metadata": {
        "id": "qrMy_oxnpqHe"
      },
      "source": [
        "Проверяем"
      ]
    },
    {
      "cell_type": "code",
      "metadata": {
        "colab": {
          "base_uri": "https://localhost:8080/"
        },
        "id": "4r2bL_GhLxeW",
        "outputId": "32e7fad9-bdf5-4b12-fc13-5574dd9076fd"
      },
      "source": [
        "apps.info()"
      ],
      "execution_count": 12,
      "outputs": [
        {
          "output_type": "stream",
          "text": [
            "<class 'pandas.core.frame.DataFrame'>\n",
            "Int64Index: 8194 entries, 0 to 10840\n",
            "Data columns (total 13 columns):\n",
            " #   Column          Non-Null Count  Dtype         \n",
            "---  ------          --------------  -----         \n",
            " 0   App             8194 non-null   object        \n",
            " 1   Category        8194 non-null   object        \n",
            " 2   Rating          8194 non-null   float64       \n",
            " 3   Reviews         8194 non-null   object        \n",
            " 4   Size            8194 non-null   object        \n",
            " 5   Installs        8194 non-null   object        \n",
            " 6   Type            8194 non-null   object        \n",
            " 7   Price           8194 non-null   object        \n",
            " 8   Content Rating  8194 non-null   object        \n",
            " 9   Genres          8194 non-null   object        \n",
            " 10  Last Updated    8194 non-null   datetime64[ns]\n",
            " 11  Current Ver     8194 non-null   object        \n",
            " 12  Android Ver     8194 non-null   object        \n",
            "dtypes: datetime64[ns](1), float64(1), object(11)\n",
            "memory usage: 896.2+ KB\n"
          ],
          "name": "stdout"
        }
      ]
    },
    {
      "cell_type": "code",
      "metadata": {
        "colab": {
          "base_uri": "https://localhost:8080/"
        },
        "id": "nsWlWYMRPIbb",
        "outputId": "ca32fed4-71b7-49e4-9ba4-677a5e5c8921"
      },
      "source": [
        "apps.nunique()"
      ],
      "execution_count": 13,
      "outputs": [
        {
          "output_type": "execute_result",
          "data": {
            "text/plain": [
              "App               8194\n",
              "Category            33\n",
              "Rating              39\n",
              "Reviews           5321\n",
              "Size               414\n",
              "Installs            19\n",
              "Type                 2\n",
              "Price               73\n",
              "Content Rating       6\n",
              "Genres             115\n",
              "Last Updated      1300\n",
              "Current Ver       2625\n",
              "Android Ver         31\n",
              "dtype: int64"
            ]
          },
          "metadata": {
            "tags": []
          },
          "execution_count": 13
        }
      ]
    },
    {
      "cell_type": "markdown",
      "metadata": {
        "id": "O1z0LDBJ4-Ys"
      },
      "source": [
        "Создадим для каждой из категорий отдельный столбец"
      ]
    },
    {
      "cell_type": "code",
      "metadata": {
        "id": "MkeP3R6hPNy3"
      },
      "source": [
        "apps = apps.join(pd.get_dummies(apps.Category, prefix='Category'))"
      ],
      "execution_count": 14,
      "outputs": []
    },
    {
      "cell_type": "code",
      "metadata": {
        "id": "LdA2tDOO8RBp"
      },
      "source": [
        "apps['Reviews'] = apps['Reviews'].astype(int)"
      ],
      "execution_count": 15,
      "outputs": []
    },
    {
      "cell_type": "markdown",
      "metadata": {
        "id": "uYuKUR1C5Dzh"
      },
      "source": [
        "Переведём переменную \"Размер приложения\" к одной единице измерения"
      ]
    },
    {
      "cell_type": "code",
      "metadata": {
        "colab": {
          "base_uri": "https://localhost:8080/"
        },
        "id": "FhY9v-F6PsXi",
        "outputId": "554d605f-d7d4-4a8d-b9e2-a2987b271663"
      },
      "source": [
        "apps.Size[apps.Size != 'Varies with device'] = (apps.Size[apps.Size != 'Varies with device'].replace(r'[kM]', '', regex=True).astype(float) * \\\n",
        "          apps.Size[apps.Size != 'Varies with device'].str.extract(r'[\\d\\.]+([kM]+)', expand=False)\n",
        "          .fillna(1)\n",
        "          .replace(['k','M'], [1, 1024]).astype(int))\n",
        "apps = apps.rename(columns = {'Size': 'Size(kB)'})"
      ],
      "execution_count": 16,
      "outputs": [
        {
          "output_type": "stream",
          "text": [
            "/usr/local/lib/python3.7/dist-packages/ipykernel_launcher.py:3: SettingWithCopyWarning: \n",
            "A value is trying to be set on a copy of a slice from a DataFrame\n",
            "\n",
            "See the caveats in the documentation: https://pandas.pydata.org/pandas-docs/stable/user_guide/indexing.html#returning-a-view-versus-a-copy\n",
            "  This is separate from the ipykernel package so we can avoid doing imports until\n"
          ],
          "name": "stderr"
        }
      ]
    },
    {
      "cell_type": "code",
      "metadata": {
        "colab": {
          "base_uri": "https://localhost:8080/"
        },
        "id": "qSbp0YnBmLd_",
        "outputId": "1e53bbb6-4714-488b-e09e-6146e229d05b"
      },
      "source": [
        "apps['Size(kB)'][apps['Size(kB)'] == 'Varies with device'] = apps['Size(kB)'][apps['Size(kB)'] != 'Varies with device'].median()"
      ],
      "execution_count": 17,
      "outputs": [
        {
          "output_type": "stream",
          "text": [
            "/usr/local/lib/python3.7/dist-packages/ipykernel_launcher.py:1: SettingWithCopyWarning: \n",
            "A value is trying to be set on a copy of a slice from a DataFrame\n",
            "\n",
            "See the caveats in the documentation: https://pandas.pydata.org/pandas-docs/stable/user_guide/indexing.html#returning-a-view-versus-a-copy\n",
            "  \"\"\"Entry point for launching an IPython kernel.\n"
          ],
          "name": "stderr"
        }
      ]
    },
    {
      "cell_type": "code",
      "metadata": {
        "id": "33rgmjKXmcz-"
      },
      "source": [
        "apps['Size(kB)'] = apps['Size(kB)'].astype(float)"
      ],
      "execution_count": 18,
      "outputs": []
    },
    {
      "cell_type": "markdown",
      "metadata": {
        "id": "cqNxg3WY-Jgh"
      },
      "source": [
        "Создадим 2 варианта кодирования переменной 'Installs':\n",
        "\n",
        "- кодирование от 1 до числа уникальных значений\n",
        "- пропорциональное кодирование\n",
        "\\\n",
        "При построении регрессии будут протестированы оба варианта на предмет качества модели"
      ]
    },
    {
      "cell_type": "code",
      "metadata": {
        "id": "dKy2LGRvQYDR"
      },
      "source": [
        "a = list(apps.Installs.unique())\n",
        "a = [s.replace('+', '').replace(',','') for s in a]\n",
        "a = [int(q) for q in a]\n",
        "a = sorted(a)"
      ],
      "execution_count": 19,
      "outputs": []
    },
    {
      "cell_type": "code",
      "metadata": {
        "id": "5C7MtZtu6rsH"
      },
      "source": [
        "d1 = dict(zip(a, range(1,len(a)+1)))\n",
        "a2 = []\n",
        "for i in range(len(a) - 1):\n",
        "  a2.append((a[i] + a[i+1])/2)\n",
        "a2.append(a[len(a) - 1]*3)\n",
        "d2 = dict(zip(a, a2))"
      ],
      "execution_count": 20,
      "outputs": []
    },
    {
      "cell_type": "code",
      "metadata": {
        "id": "cZOIBekq84jJ"
      },
      "source": [
        "apps['Installs1'] = apps.Installs.replace('[,+]', '', regex=True).astype(float).map(d1)\n",
        "apps['Installs2'] = apps.Installs.replace('[,+]', '', regex=True).astype(float).map(d2)"
      ],
      "execution_count": 21,
      "outputs": []
    },
    {
      "cell_type": "code",
      "metadata": {
        "id": "noWBGx42_99-"
      },
      "source": [
        "le = preprocessing.LabelEncoder()"
      ],
      "execution_count": 22,
      "outputs": []
    },
    {
      "cell_type": "code",
      "metadata": {
        "id": "1I7XA_ho7TCJ"
      },
      "source": [
        "apps['Is_paid'] = le.fit_transform(apps.Type.values)\n",
        "del apps['Type']"
      ],
      "execution_count": 23,
      "outputs": []
    },
    {
      "cell_type": "code",
      "metadata": {
        "id": "LOmTJrcFXr0y"
      },
      "source": [
        "apps.Price = apps['Price'].str.replace('$','').astype(float)"
      ],
      "execution_count": 24,
      "outputs": []
    },
    {
      "cell_type": "markdown",
      "metadata": {
        "id": "UNXus2VuscE0"
      },
      "source": [
        "Посмотрим на значения возрастного рейтинга приложений"
      ]
    },
    {
      "cell_type": "code",
      "metadata": {
        "colab": {
          "base_uri": "https://localhost:8080/"
        },
        "id": "KRDrEpwc6UdP",
        "outputId": "7958bbe5-64a5-4254-d541-8f1ad59cc655"
      },
      "source": [
        "apps['Content Rating'].value_counts()"
      ],
      "execution_count": 25,
      "outputs": [
        {
          "output_type": "execute_result",
          "data": {
            "text/plain": [
              "Everyone           6616\n",
              "Teen                912\n",
              "Mature 17+          357\n",
              "Everyone 10+        305\n",
              "Adults only 18+       3\n",
              "Unrated               1\n",
              "Name: Content Rating, dtype: int64"
            ]
          },
          "metadata": {
            "tags": []
          },
          "execution_count": 25
        }
      ]
    },
    {
      "cell_type": "markdown",
      "metadata": {
        "id": "5uycelgkskPr"
      },
      "source": [
        "Как мы видим, рейтинг можно закодировать как с помощью one hot encoding, так и значений от 1 до 5 по возрастанию возраста - если мы избавимся от значения Unrated. Заполним его наиболее часто встречающимся рейтингом приложений, содержащих такое же ключевое слово."
      ]
    },
    {
      "cell_type": "code",
      "metadata": {
        "colab": {
          "base_uri": "https://localhost:8080/",
          "height": 164
        },
        "id": "jpYSlt5OutnG",
        "outputId": "e77a7c5b-7c1b-4d9c-aada-0b1c37a0c85a"
      },
      "source": [
        "apps[apps['Content Rating'] == 'Unrated']"
      ],
      "execution_count": 26,
      "outputs": [
        {
          "output_type": "execute_result",
          "data": {
            "text/html": [
              "<div>\n",
              "<style scoped>\n",
              "    .dataframe tbody tr th:only-of-type {\n",
              "        vertical-align: middle;\n",
              "    }\n",
              "\n",
              "    .dataframe tbody tr th {\n",
              "        vertical-align: top;\n",
              "    }\n",
              "\n",
              "    .dataframe thead th {\n",
              "        text-align: right;\n",
              "    }\n",
              "</style>\n",
              "<table border=\"1\" class=\"dataframe\">\n",
              "  <thead>\n",
              "    <tr style=\"text-align: right;\">\n",
              "      <th></th>\n",
              "      <th>App</th>\n",
              "      <th>Category</th>\n",
              "      <th>Rating</th>\n",
              "      <th>Reviews</th>\n",
              "      <th>Size(kB)</th>\n",
              "      <th>Installs</th>\n",
              "      <th>Price</th>\n",
              "      <th>Content Rating</th>\n",
              "      <th>Genres</th>\n",
              "      <th>Last Updated</th>\n",
              "      <th>Current Ver</th>\n",
              "      <th>Android Ver</th>\n",
              "      <th>Category_ART_AND_DESIGN</th>\n",
              "      <th>Category_AUTO_AND_VEHICLES</th>\n",
              "      <th>Category_BEAUTY</th>\n",
              "      <th>Category_BOOKS_AND_REFERENCE</th>\n",
              "      <th>Category_BUSINESS</th>\n",
              "      <th>Category_COMICS</th>\n",
              "      <th>Category_COMMUNICATION</th>\n",
              "      <th>Category_DATING</th>\n",
              "      <th>Category_EDUCATION</th>\n",
              "      <th>Category_ENTERTAINMENT</th>\n",
              "      <th>Category_EVENTS</th>\n",
              "      <th>Category_FAMILY</th>\n",
              "      <th>Category_FINANCE</th>\n",
              "      <th>Category_FOOD_AND_DRINK</th>\n",
              "      <th>Category_GAME</th>\n",
              "      <th>Category_HEALTH_AND_FITNESS</th>\n",
              "      <th>Category_HOUSE_AND_HOME</th>\n",
              "      <th>Category_LIBRARIES_AND_DEMO</th>\n",
              "      <th>Category_LIFESTYLE</th>\n",
              "      <th>Category_MAPS_AND_NAVIGATION</th>\n",
              "      <th>Category_MEDICAL</th>\n",
              "      <th>Category_NEWS_AND_MAGAZINES</th>\n",
              "      <th>Category_PARENTING</th>\n",
              "      <th>Category_PERSONALIZATION</th>\n",
              "      <th>Category_PHOTOGRAPHY</th>\n",
              "      <th>Category_PRODUCTIVITY</th>\n",
              "      <th>Category_SHOPPING</th>\n",
              "      <th>Category_SOCIAL</th>\n",
              "      <th>Category_SPORTS</th>\n",
              "      <th>Category_TOOLS</th>\n",
              "      <th>Category_TRAVEL_AND_LOCAL</th>\n",
              "      <th>Category_VIDEO_PLAYERS</th>\n",
              "      <th>Category_WEATHER</th>\n",
              "      <th>Installs1</th>\n",
              "      <th>Installs2</th>\n",
              "      <th>Is_paid</th>\n",
              "    </tr>\n",
              "  </thead>\n",
              "  <tbody>\n",
              "    <tr>\n",
              "      <th>8266</th>\n",
              "      <td>DC Universe Online Map</td>\n",
              "      <td>TOOLS</td>\n",
              "      <td>4.1</td>\n",
              "      <td>1186</td>\n",
              "      <td>6553.6</td>\n",
              "      <td>50,000+</td>\n",
              "      <td>0.0</td>\n",
              "      <td>Unrated</td>\n",
              "      <td>Tools</td>\n",
              "      <td>2012-02-27</td>\n",
              "      <td>1.3</td>\n",
              "      <td>2.3.3 and up</td>\n",
              "      <td>0</td>\n",
              "      <td>0</td>\n",
              "      <td>0</td>\n",
              "      <td>0</td>\n",
              "      <td>0</td>\n",
              "      <td>0</td>\n",
              "      <td>0</td>\n",
              "      <td>0</td>\n",
              "      <td>0</td>\n",
              "      <td>0</td>\n",
              "      <td>0</td>\n",
              "      <td>0</td>\n",
              "      <td>0</td>\n",
              "      <td>0</td>\n",
              "      <td>0</td>\n",
              "      <td>0</td>\n",
              "      <td>0</td>\n",
              "      <td>0</td>\n",
              "      <td>0</td>\n",
              "      <td>0</td>\n",
              "      <td>0</td>\n",
              "      <td>0</td>\n",
              "      <td>0</td>\n",
              "      <td>0</td>\n",
              "      <td>0</td>\n",
              "      <td>0</td>\n",
              "      <td>0</td>\n",
              "      <td>0</td>\n",
              "      <td>0</td>\n",
              "      <td>1</td>\n",
              "      <td>0</td>\n",
              "      <td>0</td>\n",
              "      <td>0</td>\n",
              "      <td>10</td>\n",
              "      <td>75000.0</td>\n",
              "      <td>0</td>\n",
              "    </tr>\n",
              "  </tbody>\n",
              "</table>\n",
              "</div>"
            ],
            "text/plain": [
              "                         App Category  Rating  Reviews  Size(kB) Installs  \\\n",
              "8266  DC Universe Online Map    TOOLS     4.1     1186    6553.6  50,000+   \n",
              "\n",
              "      Price Content Rating Genres Last Updated Current Ver   Android Ver  \\\n",
              "8266    0.0        Unrated  Tools   2012-02-27         1.3  2.3.3 and up   \n",
              "\n",
              "      Category_ART_AND_DESIGN  Category_AUTO_AND_VEHICLES  Category_BEAUTY  \\\n",
              "8266                        0                           0                0   \n",
              "\n",
              "      Category_BOOKS_AND_REFERENCE  Category_BUSINESS  Category_COMICS  \\\n",
              "8266                             0                  0                0   \n",
              "\n",
              "      Category_COMMUNICATION  Category_DATING  Category_EDUCATION  \\\n",
              "8266                       0                0                   0   \n",
              "\n",
              "      Category_ENTERTAINMENT  Category_EVENTS  Category_FAMILY  \\\n",
              "8266                       0                0                0   \n",
              "\n",
              "      Category_FINANCE  Category_FOOD_AND_DRINK  Category_GAME  \\\n",
              "8266                 0                        0              0   \n",
              "\n",
              "      Category_HEALTH_AND_FITNESS  Category_HOUSE_AND_HOME  \\\n",
              "8266                            0                        0   \n",
              "\n",
              "      Category_LIBRARIES_AND_DEMO  Category_LIFESTYLE  \\\n",
              "8266                            0                   0   \n",
              "\n",
              "      Category_MAPS_AND_NAVIGATION  Category_MEDICAL  \\\n",
              "8266                             0                 0   \n",
              "\n",
              "      Category_NEWS_AND_MAGAZINES  Category_PARENTING  \\\n",
              "8266                            0                   0   \n",
              "\n",
              "      Category_PERSONALIZATION  Category_PHOTOGRAPHY  Category_PRODUCTIVITY  \\\n",
              "8266                         0                     0                      0   \n",
              "\n",
              "      Category_SHOPPING  Category_SOCIAL  Category_SPORTS  Category_TOOLS  \\\n",
              "8266                  0                0                0               1   \n",
              "\n",
              "      Category_TRAVEL_AND_LOCAL  Category_VIDEO_PLAYERS  Category_WEATHER  \\\n",
              "8266                          0                       0                 0   \n",
              "\n",
              "      Installs1  Installs2  Is_paid  \n",
              "8266         10    75000.0        0  "
            ]
          },
          "metadata": {
            "tags": []
          },
          "execution_count": 26
        }
      ]
    },
    {
      "cell_type": "code",
      "metadata": {
        "colab": {
          "base_uri": "https://localhost:8080/"
        },
        "id": "8xnGW16luums",
        "outputId": "86d03dcf-04a2-468e-ae44-2798fa401ff9"
      },
      "source": [
        "apps[apps.App.str.contains('photo',case = False)]['Content Rating'].value_counts().index[0], apps[apps.App.str.contains('DC',case = False)]['Content Rating'].value_counts().index[0]"
      ],
      "execution_count": 27,
      "outputs": [
        {
          "output_type": "execute_result",
          "data": {
            "text/plain": [
              "('Everyone', 'Everyone')"
            ]
          },
          "metadata": {
            "tags": []
          },
          "execution_count": 27
        }
      ]
    },
    {
      "cell_type": "markdown",
      "metadata": {
        "id": "4NpGUSUWu9Aj"
      },
      "source": [
        "Для обоих приложений заменим их рейтинг на Everyone.\n"
      ]
    },
    {
      "cell_type": "code",
      "metadata": {
        "id": "snekBegPqk7y"
      },
      "source": [
        "d3 = {'Everyone': 1, 'Teen': 2, 'Everyone 10+': 3, 'Mature 17+': 4, 'Adults only 18+': 5, 'Unrated': 1}"
      ],
      "execution_count": 28,
      "outputs": []
    },
    {
      "cell_type": "code",
      "metadata": {
        "id": "FViJ40nrtkGH"
      },
      "source": [
        "apps['Content_Rating1'] = apps['Content Rating'].map(d3)"
      ],
      "execution_count": 29,
      "outputs": []
    },
    {
      "cell_type": "code",
      "metadata": {
        "id": "BAMB7mW5vvlO"
      },
      "source": [
        "apps = apps.join(pd.get_dummies(apps['Content Rating'], prefix='Rating'))"
      ],
      "execution_count": 30,
      "outputs": []
    },
    {
      "cell_type": "markdown",
      "metadata": {
        "id": "yd7Q1IJbzJV2"
      },
      "source": [
        "Для кодирования переменной Genres нам необходимо обработать строки, в которых несколько жанров могут идти через запятую"
      ]
    },
    {
      "cell_type": "code",
      "metadata": {
        "id": "AjsC9LXGrPJM"
      },
      "source": [
        "import itertools\n",
        "q = list(apps.Genres.unique())\n",
        "q = [i.split(';', 5) for i in q]\n",
        "unique_genres = list(set(itertools.chain(*q)))"
      ],
      "execution_count": 31,
      "outputs": []
    },
    {
      "cell_type": "markdown",
      "metadata": {
        "id": "vu2Xtfhw9Y46"
      },
      "source": [
        "Посмотрим, какое может быть максимальное число жанров у одного приложения"
      ]
    },
    {
      "cell_type": "code",
      "metadata": {
        "colab": {
          "base_uri": "https://localhost:8080/"
        },
        "id": "X1FY1GyX9Yde",
        "outputId": "f984d319-986e-4380-d4b4-c3beb8a030df"
      },
      "source": [
        "print(apps['Genres'].str.count(';').max() + 1,'жанра')"
      ],
      "execution_count": 32,
      "outputs": [
        {
          "output_type": "stream",
          "text": [
            "2 жанра\n"
          ],
          "name": "stdout"
        }
      ]
    },
    {
      "cell_type": "markdown",
      "metadata": {
        "id": "uRA9Tn3v-e65"
      },
      "source": [
        "Создаём столбцы для каждого возможного жанра"
      ]
    },
    {
      "cell_type": "code",
      "metadata": {
        "id": "C76K_A9grmgT"
      },
      "source": [
        "apps[['Genre1', 'Genre2']] = apps['Genres'].str.split(';', 1, expand=True)\n",
        "for col in unique_genres:\n",
        "  apps[col] = (apps.Genre1 == col).astype(int) + (apps.Genre2 == col).astype(int)"
      ],
      "execution_count": 33,
      "outputs": []
    },
    {
      "cell_type": "markdown",
      "metadata": {
        "id": "UpiB-slStKLj"
      },
      "source": [
        "Разделим дату на 3 колонки: Год, Месяц, День"
      ]
    },
    {
      "cell_type": "code",
      "metadata": {
        "id": "4jbDLyh4tP1A"
      },
      "source": [
        "apps['year'] = pd.DatetimeIndex(apps['Last Updated']).year\n",
        "apps['month'] = pd.DatetimeIndex(apps['Last Updated']).month\n",
        "apps['day'] = pd.DatetimeIndex(apps['Last Updated']).day"
      ],
      "execution_count": 34,
      "outputs": []
    },
    {
      "cell_type": "markdown",
      "metadata": {
        "id": "4z261mBk-raE"
      },
      "source": [
        "Текущую версию приложения округлим до первой цифры. Если она неизвестна - заменим средним"
      ]
    },
    {
      "cell_type": "code",
      "metadata": {
        "id": "ryFr2ZKGw8w0"
      },
      "source": [
        "apps['Current Ver'] = apps['Current Ver'].str[0]"
      ],
      "execution_count": 35,
      "outputs": []
    },
    {
      "cell_type": "code",
      "metadata": {
        "colab": {
          "base_uri": "https://localhost:8080/"
        },
        "id": "THHfVOZXxQfm",
        "outputId": "4c4de73e-f82b-4498-f212-327b7652dec9"
      },
      "source": [
        "apps['Current Ver'][apps['Current Ver'].str.isnumeric() == False] = apps['Current Ver'][apps['Current Ver'].str.isnumeric()].astype(int).mean()"
      ],
      "execution_count": 36,
      "outputs": [
        {
          "output_type": "stream",
          "text": [
            "/usr/local/lib/python3.7/dist-packages/ipykernel_launcher.py:1: SettingWithCopyWarning: \n",
            "A value is trying to be set on a copy of a slice from a DataFrame\n",
            "\n",
            "See the caveats in the documentation: https://pandas.pydata.org/pandas-docs/stable/user_guide/indexing.html#returning-a-view-versus-a-copy\n",
            "  \"\"\"Entry point for launching an IPython kernel.\n"
          ],
          "name": "stderr"
        }
      ]
    },
    {
      "cell_type": "code",
      "metadata": {
        "id": "uGCMYJqm4T8N"
      },
      "source": [
        "apps['Current Ver'] = apps['Current Ver'].astype(float)"
      ],
      "execution_count": 37,
      "outputs": []
    },
    {
      "cell_type": "markdown",
      "metadata": {
        "id": "v76Y2rpw-06y"
      },
      "source": [
        "Требуемую версию Андроида также округлим до первой цифры, а если она неизвестна - заменим средней"
      ]
    },
    {
      "cell_type": "code",
      "metadata": {
        "id": "r9aJWh93yRWA"
      },
      "source": [
        "apps['Android Ver'] = apps['Android Ver'].str[0]"
      ],
      "execution_count": 38,
      "outputs": []
    },
    {
      "cell_type": "code",
      "metadata": {
        "colab": {
          "base_uri": "https://localhost:8080/"
        },
        "id": "bpfF_WkNyZgp",
        "outputId": "84f4355e-c070-4ab8-9fc5-322b77272b9c"
      },
      "source": [
        "apps['Android Ver'][apps['Android Ver'].str.isnumeric() == False] = apps['Android Ver'][apps['Android Ver'].str.isnumeric()].astype(int).mean()"
      ],
      "execution_count": 39,
      "outputs": [
        {
          "output_type": "stream",
          "text": [
            "/usr/local/lib/python3.7/dist-packages/ipykernel_launcher.py:1: SettingWithCopyWarning: \n",
            "A value is trying to be set on a copy of a slice from a DataFrame\n",
            "\n",
            "See the caveats in the documentation: https://pandas.pydata.org/pandas-docs/stable/user_guide/indexing.html#returning-a-view-versus-a-copy\n",
            "  \"\"\"Entry point for launching an IPython kernel.\n"
          ],
          "name": "stderr"
        }
      ]
    },
    {
      "cell_type": "code",
      "metadata": {
        "id": "bMZyAG_lytYz"
      },
      "source": [
        "apps['Android Ver'] = apps['Android Ver'].astype(float)"
      ],
      "execution_count": 40,
      "outputs": []
    },
    {
      "cell_type": "markdown",
      "metadata": {
        "id": "wfTCytD9DwP3"
      },
      "source": [
        "Теперь проверим датасет reviews"
      ]
    },
    {
      "cell_type": "code",
      "metadata": {
        "colab": {
          "base_uri": "https://localhost:8080/"
        },
        "id": "ipiBgb7CD0_w",
        "outputId": "0ded26b2-76b7-4e3d-c923-619b782d470a"
      },
      "source": [
        "reviews.info()"
      ],
      "execution_count": 41,
      "outputs": [
        {
          "output_type": "stream",
          "text": [
            "<class 'pandas.core.frame.DataFrame'>\n",
            "RangeIndex: 64295 entries, 0 to 64294\n",
            "Data columns (total 5 columns):\n",
            " #   Column                  Non-Null Count  Dtype  \n",
            "---  ------                  --------------  -----  \n",
            " 0   App                     64295 non-null  object \n",
            " 1   Translated_Review       37427 non-null  object \n",
            " 2   Sentiment               37432 non-null  object \n",
            " 3   Sentiment_Polarity      37432 non-null  float64\n",
            " 4   Sentiment_Subjectivity  37432 non-null  float64\n",
            "dtypes: float64(2), object(3)\n",
            "memory usage: 2.5+ MB\n"
          ],
          "name": "stdout"
        }
      ]
    },
    {
      "cell_type": "code",
      "metadata": {
        "colab": {
          "base_uri": "https://localhost:8080/"
        },
        "id": "-DmyGYla_L4G",
        "outputId": "dabce745-1495-4a4a-bc1c-9d6c6301cc3f"
      },
      "source": [
        "reviews.nunique()"
      ],
      "execution_count": 42,
      "outputs": [
        {
          "output_type": "execute_result",
          "data": {
            "text/plain": [
              "App                        1074\n",
              "Translated_Review         27994\n",
              "Sentiment                     3\n",
              "Sentiment_Polarity         6195\n",
              "Sentiment_Subjectivity     4530\n",
              "dtype: int64"
            ]
          },
          "metadata": {
            "tags": []
          },
          "execution_count": 42
        }
      ]
    },
    {
      "cell_type": "markdown",
      "metadata": {
        "id": "UOgzGIheD3xz"
      },
      "source": [
        "Закодируем порядковую переменную \"Sentiment\""
      ]
    },
    {
      "cell_type": "code",
      "metadata": {
        "colab": {
          "base_uri": "https://localhost:8080/"
        },
        "id": "OtmTgSy3-RZn",
        "outputId": "adbc4d91-78b3-4447-8220-d2f2b788cf84"
      },
      "source": [
        "reviews.Sentiment.value_counts()"
      ],
      "execution_count": 43,
      "outputs": [
        {
          "output_type": "execute_result",
          "data": {
            "text/plain": [
              "Positive    23998\n",
              "Negative     8271\n",
              "Neutral      5163\n",
              "Name: Sentiment, dtype: int64"
            ]
          },
          "metadata": {
            "tags": []
          },
          "execution_count": 43
        }
      ]
    },
    {
      "cell_type": "code",
      "metadata": {
        "id": "0K2Mvl7gESpF"
      },
      "source": [
        "reviews.Sentiment = reviews.Sentiment.map({'Positive': 1, 'Neutral': 0, 'Negative': -1})"
      ],
      "execution_count": 44,
      "outputs": []
    },
    {
      "cell_type": "markdown",
      "metadata": {
        "id": "r7NMhOTQFFr6"
      },
      "source": [
        "Посмотрим на пустые значения переменных в датасете"
      ]
    },
    {
      "cell_type": "code",
      "metadata": {
        "colab": {
          "base_uri": "https://localhost:8080/",
          "height": 136
        },
        "id": "94uRKHrq-R2i",
        "outputId": "ad447239-1be1-4885-aa36-2261a22b6503"
      },
      "source": [
        "reviews.isnull().groupby(['App','Translated_Review','Sentiment','Sentiment_Polarity','Sentiment_Subjectivity']).size().reset_index()"
      ],
      "execution_count": 45,
      "outputs": [
        {
          "output_type": "execute_result",
          "data": {
            "text/html": [
              "<div>\n",
              "<style scoped>\n",
              "    .dataframe tbody tr th:only-of-type {\n",
              "        vertical-align: middle;\n",
              "    }\n",
              "\n",
              "    .dataframe tbody tr th {\n",
              "        vertical-align: top;\n",
              "    }\n",
              "\n",
              "    .dataframe thead th {\n",
              "        text-align: right;\n",
              "    }\n",
              "</style>\n",
              "<table border=\"1\" class=\"dataframe\">\n",
              "  <thead>\n",
              "    <tr style=\"text-align: right;\">\n",
              "      <th></th>\n",
              "      <th>App</th>\n",
              "      <th>Translated_Review</th>\n",
              "      <th>Sentiment</th>\n",
              "      <th>Sentiment_Polarity</th>\n",
              "      <th>Sentiment_Subjectivity</th>\n",
              "      <th>0</th>\n",
              "    </tr>\n",
              "  </thead>\n",
              "  <tbody>\n",
              "    <tr>\n",
              "      <th>0</th>\n",
              "      <td>False</td>\n",
              "      <td>False</td>\n",
              "      <td>False</td>\n",
              "      <td>False</td>\n",
              "      <td>False</td>\n",
              "      <td>37427</td>\n",
              "    </tr>\n",
              "    <tr>\n",
              "      <th>1</th>\n",
              "      <td>False</td>\n",
              "      <td>True</td>\n",
              "      <td>False</td>\n",
              "      <td>False</td>\n",
              "      <td>False</td>\n",
              "      <td>5</td>\n",
              "    </tr>\n",
              "    <tr>\n",
              "      <th>2</th>\n",
              "      <td>False</td>\n",
              "      <td>True</td>\n",
              "      <td>True</td>\n",
              "      <td>True</td>\n",
              "      <td>True</td>\n",
              "      <td>26863</td>\n",
              "    </tr>\n",
              "  </tbody>\n",
              "</table>\n",
              "</div>"
            ],
            "text/plain": [
              "     App  Translated_Review  Sentiment  Sentiment_Polarity  \\\n",
              "0  False              False      False               False   \n",
              "1  False               True      False               False   \n",
              "2  False               True       True                True   \n",
              "\n",
              "   Sentiment_Subjectivity      0  \n",
              "0                   False  37427  \n",
              "1                   False      5  \n",
              "2                    True  26863  "
            ]
          },
          "metadata": {
            "tags": []
          },
          "execution_count": 45
        }
      ]
    },
    {
      "cell_type": "markdown",
      "metadata": {
        "id": "MQ3as5-GFL6S"
      },
      "source": [
        "Как видно, почти все наблюдения или имеют только название приложения, или имеют все столбцы. Удалим пустые значения"
      ]
    },
    {
      "cell_type": "code",
      "metadata": {
        "id": "klNXR9j2CiT3"
      },
      "source": [
        "reviews = reviews.dropna()"
      ],
      "execution_count": 46,
      "outputs": []
    },
    {
      "cell_type": "code",
      "metadata": {
        "colab": {
          "base_uri": "https://localhost:8080/",
          "height": 195
        },
        "id": "M2H-JGQfGv1o",
        "outputId": "e0e567a0-6bb1-4f79-8ceb-334e42153721"
      },
      "source": [
        "reviews.head()"
      ],
      "execution_count": 47,
      "outputs": [
        {
          "output_type": "execute_result",
          "data": {
            "text/html": [
              "<div>\n",
              "<style scoped>\n",
              "    .dataframe tbody tr th:only-of-type {\n",
              "        vertical-align: middle;\n",
              "    }\n",
              "\n",
              "    .dataframe tbody tr th {\n",
              "        vertical-align: top;\n",
              "    }\n",
              "\n",
              "    .dataframe thead th {\n",
              "        text-align: right;\n",
              "    }\n",
              "</style>\n",
              "<table border=\"1\" class=\"dataframe\">\n",
              "  <thead>\n",
              "    <tr style=\"text-align: right;\">\n",
              "      <th></th>\n",
              "      <th>App</th>\n",
              "      <th>Translated_Review</th>\n",
              "      <th>Sentiment</th>\n",
              "      <th>Sentiment_Polarity</th>\n",
              "      <th>Sentiment_Subjectivity</th>\n",
              "    </tr>\n",
              "  </thead>\n",
              "  <tbody>\n",
              "    <tr>\n",
              "      <th>0</th>\n",
              "      <td>10 Best Foods for You</td>\n",
              "      <td>I like eat delicious food. That's I'm cooking ...</td>\n",
              "      <td>1.0</td>\n",
              "      <td>1.00</td>\n",
              "      <td>0.533333</td>\n",
              "    </tr>\n",
              "    <tr>\n",
              "      <th>1</th>\n",
              "      <td>10 Best Foods for You</td>\n",
              "      <td>This help eating healthy exercise regular basis</td>\n",
              "      <td>1.0</td>\n",
              "      <td>0.25</td>\n",
              "      <td>0.288462</td>\n",
              "    </tr>\n",
              "    <tr>\n",
              "      <th>3</th>\n",
              "      <td>10 Best Foods for You</td>\n",
              "      <td>Works great especially going grocery store</td>\n",
              "      <td>1.0</td>\n",
              "      <td>0.40</td>\n",
              "      <td>0.875000</td>\n",
              "    </tr>\n",
              "    <tr>\n",
              "      <th>4</th>\n",
              "      <td>10 Best Foods for You</td>\n",
              "      <td>Best idea us</td>\n",
              "      <td>1.0</td>\n",
              "      <td>1.00</td>\n",
              "      <td>0.300000</td>\n",
              "    </tr>\n",
              "    <tr>\n",
              "      <th>5</th>\n",
              "      <td>10 Best Foods for You</td>\n",
              "      <td>Best way</td>\n",
              "      <td>1.0</td>\n",
              "      <td>1.00</td>\n",
              "      <td>0.300000</td>\n",
              "    </tr>\n",
              "  </tbody>\n",
              "</table>\n",
              "</div>"
            ],
            "text/plain": [
              "                     App                                  Translated_Review  \\\n",
              "0  10 Best Foods for You  I like eat delicious food. That's I'm cooking ...   \n",
              "1  10 Best Foods for You    This help eating healthy exercise regular basis   \n",
              "3  10 Best Foods for You         Works great especially going grocery store   \n",
              "4  10 Best Foods for You                                       Best idea us   \n",
              "5  10 Best Foods for You                                           Best way   \n",
              "\n",
              "   Sentiment  Sentiment_Polarity  Sentiment_Subjectivity  \n",
              "0        1.0                1.00                0.533333  \n",
              "1        1.0                0.25                0.288462  \n",
              "3        1.0                0.40                0.875000  \n",
              "4        1.0                1.00                0.300000  \n",
              "5        1.0                1.00                0.300000  "
            ]
          },
          "metadata": {
            "tags": []
          },
          "execution_count": 47
        }
      ]
    },
    {
      "cell_type": "markdown",
      "metadata": {
        "id": "KhpWwB2_HM6B"
      },
      "source": [
        "# Определите самую популярную категорию приложений из набора данных. Постройте график, показывающий распределение приложений по категориям."
      ]
    },
    {
      "cell_type": "markdown",
      "metadata": {
        "id": "qz1-SiApJGFj"
      },
      "source": [
        "Топ популярных приложений по общему количеству приложений\\\n",
        "Самая популярная категория по количеству - Family"
      ]
    },
    {
      "cell_type": "code",
      "metadata": {
        "colab": {
          "base_uri": "https://localhost:8080/"
        },
        "id": "WDcfF81zG2dp",
        "outputId": "e430e935-ac15-4dad-bd32-9f54f66c0261"
      },
      "source": [
        "apps.Category.value_counts()[0:5]"
      ],
      "execution_count": 48,
      "outputs": [
        {
          "output_type": "execute_result",
          "data": {
            "text/plain": [
              "FAMILY       1655\n",
              "GAME          895\n",
              "TOOLS         719\n",
              "FINANCE       302\n",
              "LIFESTYLE     301\n",
              "Name: Category, dtype: int64"
            ]
          },
          "metadata": {
            "tags": []
          },
          "execution_count": 48
        }
      ]
    },
    {
      "cell_type": "markdown",
      "metadata": {
        "id": "jwp_IHfQJTNX"
      },
      "source": [
        "Однако считать популярность категории по общему числу приложений не совсем корректно. Возможна ситуация, когда в категории много приложений, но они не пользуются популярностью у пользователей. Тогда говорить о популярности категории неверно.\\\n",
        "Посчитаем популярность категорий с помощью общей суммы установок всех приложений из категории. Такой показатель учитывает и общее число приложений в категории, и сумму установок по ним.\\\n",
        "Самая популярная категория по общему числу установок - Game"
      ]
    },
    {
      "cell_type": "code",
      "metadata": {
        "colab": {
          "base_uri": "https://localhost:8080/"
        },
        "id": "ObTXeEJCHUIc",
        "outputId": "ac0cb9f9-51f8-44b8-89a5-109773d09336"
      },
      "source": [
        "apps.groupby('Category')['Installs2'].sum().sort_values(ascending = False)[0:5]"
      ],
      "execution_count": 49,
      "outputs": [
        {
          "output_type": "execute_result",
          "data": {
            "text/plain": [
              "Category\n",
              "GAME             3.257631e+10\n",
              "COMMUNICATION    2.866709e+10\n",
              "TOOLS            1.821102e+10\n",
              "FAMILY           1.548644e+10\n",
              "SOCIAL           1.443469e+10\n",
              "Name: Installs2, dtype: float64"
            ]
          },
          "metadata": {
            "tags": []
          },
          "execution_count": 49
        }
      ]
    },
    {
      "cell_type": "markdown",
      "metadata": {
        "id": "68eYmMX5886-"
      },
      "source": [
        "Построение графика распределения приложений по категориям"
      ]
    },
    {
      "cell_type": "code",
      "metadata": {
        "colab": {
          "base_uri": "https://localhost:8080/",
          "height": 0
        },
        "id": "NJVBb655swcw",
        "outputId": "87ed8806-fca5-4dbe-a4cf-93fd5ac836a1"
      },
      "source": [
        "q = apps.Category.value_counts().reset_index()\n",
        "q = q.rename(columns={'index':'Category','Category':'Num_apps'})\n",
        "\n",
        "sumof = apps.Category.value_counts().sum()\n",
        "\n",
        "q['percent'] = q['Num_apps']/sumof\n",
        "q['cum_sum'] = 0\n",
        "\n",
        "q.iloc[0,3] = q.iloc[0,2]\n",
        "for i in range(1,len(q)):\n",
        "  q.iloc[i,3] = q.iloc[i,2] + q.iloc[i-1,3]\n",
        "q.head(10)"
      ],
      "execution_count": 50,
      "outputs": [
        {
          "output_type": "execute_result",
          "data": {
            "text/html": [
              "<div>\n",
              "<style scoped>\n",
              "    .dataframe tbody tr th:only-of-type {\n",
              "        vertical-align: middle;\n",
              "    }\n",
              "\n",
              "    .dataframe tbody tr th {\n",
              "        vertical-align: top;\n",
              "    }\n",
              "\n",
              "    .dataframe thead th {\n",
              "        text-align: right;\n",
              "    }\n",
              "</style>\n",
              "<table border=\"1\" class=\"dataframe\">\n",
              "  <thead>\n",
              "    <tr style=\"text-align: right;\">\n",
              "      <th></th>\n",
              "      <th>Category</th>\n",
              "      <th>Num_apps</th>\n",
              "      <th>percent</th>\n",
              "      <th>cum_sum</th>\n",
              "    </tr>\n",
              "  </thead>\n",
              "  <tbody>\n",
              "    <tr>\n",
              "      <th>0</th>\n",
              "      <td>FAMILY</td>\n",
              "      <td>1655</td>\n",
              "      <td>0.201977</td>\n",
              "      <td>0.201977</td>\n",
              "    </tr>\n",
              "    <tr>\n",
              "      <th>1</th>\n",
              "      <td>GAME</td>\n",
              "      <td>895</td>\n",
              "      <td>0.109226</td>\n",
              "      <td>0.311203</td>\n",
              "    </tr>\n",
              "    <tr>\n",
              "      <th>2</th>\n",
              "      <td>TOOLS</td>\n",
              "      <td>719</td>\n",
              "      <td>0.087747</td>\n",
              "      <td>0.398950</td>\n",
              "    </tr>\n",
              "    <tr>\n",
              "      <th>3</th>\n",
              "      <td>FINANCE</td>\n",
              "      <td>302</td>\n",
              "      <td>0.036856</td>\n",
              "      <td>0.435807</td>\n",
              "    </tr>\n",
              "    <tr>\n",
              "      <th>4</th>\n",
              "      <td>LIFESTYLE</td>\n",
              "      <td>301</td>\n",
              "      <td>0.036734</td>\n",
              "      <td>0.472541</td>\n",
              "    </tr>\n",
              "    <tr>\n",
              "      <th>5</th>\n",
              "      <td>PRODUCTIVITY</td>\n",
              "      <td>301</td>\n",
              "      <td>0.036734</td>\n",
              "      <td>0.509275</td>\n",
              "    </tr>\n",
              "    <tr>\n",
              "      <th>6</th>\n",
              "      <td>PERSONALIZATION</td>\n",
              "      <td>296</td>\n",
              "      <td>0.036124</td>\n",
              "      <td>0.545399</td>\n",
              "    </tr>\n",
              "    <tr>\n",
              "      <th>7</th>\n",
              "      <td>MEDICAL</td>\n",
              "      <td>290</td>\n",
              "      <td>0.035392</td>\n",
              "      <td>0.580791</td>\n",
              "    </tr>\n",
              "    <tr>\n",
              "      <th>8</th>\n",
              "      <td>PHOTOGRAPHY</td>\n",
              "      <td>263</td>\n",
              "      <td>0.032097</td>\n",
              "      <td>0.612887</td>\n",
              "    </tr>\n",
              "    <tr>\n",
              "      <th>9</th>\n",
              "      <td>BUSINESS</td>\n",
              "      <td>263</td>\n",
              "      <td>0.032097</td>\n",
              "      <td>0.644984</td>\n",
              "    </tr>\n",
              "  </tbody>\n",
              "</table>\n",
              "</div>"
            ],
            "text/plain": [
              "          Category  Num_apps   percent   cum_sum\n",
              "0           FAMILY      1655  0.201977  0.201977\n",
              "1             GAME       895  0.109226  0.311203\n",
              "2            TOOLS       719  0.087747  0.398950\n",
              "3          FINANCE       302  0.036856  0.435807\n",
              "4        LIFESTYLE       301  0.036734  0.472541\n",
              "5     PRODUCTIVITY       301  0.036734  0.509275\n",
              "6  PERSONALIZATION       296  0.036124  0.545399\n",
              "7          MEDICAL       290  0.035392  0.580791\n",
              "8      PHOTOGRAPHY       263  0.032097  0.612887\n",
              "9         BUSINESS       263  0.032097  0.644984"
            ]
          },
          "metadata": {
            "tags": []
          },
          "execution_count": 50
        }
      ]
    },
    {
      "cell_type": "markdown",
      "metadata": {
        "id": "kM1IOrV1ttIo"
      },
      "source": [
        "Покажем на графике 10 самых популярных категорий приложений. Остальные сгруппируем и также выведем отдельным столбцом"
      ]
    },
    {
      "cell_type": "code",
      "metadata": {
        "colab": {
          "base_uri": "https://localhost:8080/",
          "height": 0
        },
        "id": "Hh8XTeU0IDaG",
        "outputId": "ef0d7323-5712-4414-e3b4-d0ad481f934a"
      },
      "source": [
        "plt.figure(figsize=(17, 9))\n",
        "plt.pie(np.append(q['Num_apps'][0:9].values,q[q.index >= 9]['Num_apps'].sum()), labels = np.append(q['Category'][0:9],'OTHERS'), autopct='%1.1f%%',\n",
        "        wedgeprops={\"edgecolor\":\"k\",'linewidth': 1, 'antialiased': True}, textprops={'fontsize': 13})\n",
        "plt.title('Распределение приложений по категориям', fontsize = 16)\n",
        "plt.legend(np.append(q['Category'][0:9] + ', ' + q['Num_apps'][0:9].astype(str) + ' apps',\n",
        "                     'OTHERS' + ', ' + q[q.index >= 9]['Num_apps'].sum().astype(str) + ' apps'),\n",
        "           fontsize = 12, loc = 'right', bbox_to_anchor=(0.5, 0.32, 1., 0.602))  \n",
        "plt.show()"
      ],
      "execution_count": 51,
      "outputs": [
        {
          "output_type": "display_data",
          "data": {
            "image/png": "[encoded data removed]",
            "text/plain": [
              "<Figure size 1224x648 with 1 Axes>"
            ]
          },
          "metadata": {
            "tags": []
          }
        }
      ]
    },
    {
      "cell_type": "markdown",
      "metadata": {
        "id": "r9qYnWMD6wOj"
      },
      "source": [
        "# Определите приложения с наибольшим количеством установок"
      ]
    },
    {
      "cell_type": "code",
      "metadata": {
        "colab": {
          "base_uri": "https://localhost:8080/",
          "height": 0
        },
        "id": "rmDUwCMirg0g",
        "outputId": "f680d888-534e-41c2-ad7f-c219aaffb728"
      },
      "source": [
        "apps[apps.Installs1 == apps.Installs1.max()][['App','Installs']].sort_values(by = ['App'])"
      ],
      "execution_count": 52,
      "outputs": [
        {
          "output_type": "execute_result",
          "data": {
            "text/html": [
              "<div>\n",
              "<style scoped>\n",
              "    .dataframe tbody tr th:only-of-type {\n",
              "        vertical-align: middle;\n",
              "    }\n",
              "\n",
              "    .dataframe tbody tr th {\n",
              "        vertical-align: top;\n",
              "    }\n",
              "\n",
              "    .dataframe thead th {\n",
              "        text-align: right;\n",
              "    }\n",
              "</style>\n",
              "<table border=\"1\" class=\"dataframe\">\n",
              "  <thead>\n",
              "    <tr style=\"text-align: right;\">\n",
              "      <th></th>\n",
              "      <th>App</th>\n",
              "      <th>Installs</th>\n",
              "    </tr>\n",
              "  </thead>\n",
              "  <tbody>\n",
              "    <tr>\n",
              "      <th>2544</th>\n",
              "      <td>Facebook</td>\n",
              "      <td>1,000,000,000+</td>\n",
              "    </tr>\n",
              "    <tr>\n",
              "      <th>451</th>\n",
              "      <td>Gmail</td>\n",
              "      <td>1,000,000,000+</td>\n",
              "    </tr>\n",
              "    <tr>\n",
              "      <th>3234</th>\n",
              "      <td>Google</td>\n",
              "      <td>1,000,000,000+</td>\n",
              "    </tr>\n",
              "    <tr>\n",
              "      <th>411</th>\n",
              "      <td>Google Chrome: Fast &amp; Secure</td>\n",
              "      <td>1,000,000,000+</td>\n",
              "    </tr>\n",
              "    <tr>\n",
              "      <th>3565</th>\n",
              "      <td>Google Drive</td>\n",
              "      <td>1,000,000,000+</td>\n",
              "    </tr>\n",
              "    <tr>\n",
              "      <th>9844</th>\n",
              "      <td>Google News</td>\n",
              "      <td>1,000,000,000+</td>\n",
              "    </tr>\n",
              "    <tr>\n",
              "      <th>2884</th>\n",
              "      <td>Google Photos</td>\n",
              "      <td>1,000,000,000+</td>\n",
              "    </tr>\n",
              "    <tr>\n",
              "      <th>152</th>\n",
              "      <td>Google Play Books</td>\n",
              "      <td>1,000,000,000+</td>\n",
              "    </tr>\n",
              "    <tr>\n",
              "      <th>5856</th>\n",
              "      <td>Google Play Games</td>\n",
              "      <td>1,000,000,000+</td>\n",
              "    </tr>\n",
              "    <tr>\n",
              "      <th>3687</th>\n",
              "      <td>Google Play Movies &amp; TV</td>\n",
              "      <td>1,000,000,000+</td>\n",
              "    </tr>\n",
              "    <tr>\n",
              "      <th>3232</th>\n",
              "      <td>Google Street View</td>\n",
              "      <td>1,000,000,000+</td>\n",
              "    </tr>\n",
              "    <tr>\n",
              "      <th>2554</th>\n",
              "      <td>Google+</td>\n",
              "      <td>1,000,000,000+</td>\n",
              "    </tr>\n",
              "    <tr>\n",
              "      <th>464</th>\n",
              "      <td>Hangouts</td>\n",
              "      <td>1,000,000,000+</td>\n",
              "    </tr>\n",
              "    <tr>\n",
              "      <th>2604</th>\n",
              "      <td>Instagram</td>\n",
              "      <td>1,000,000,000+</td>\n",
              "    </tr>\n",
              "    <tr>\n",
              "      <th>3223</th>\n",
              "      <td>Maps - Navigate &amp; Explore</td>\n",
              "      <td>1,000,000,000+</td>\n",
              "    </tr>\n",
              "    <tr>\n",
              "      <th>382</th>\n",
              "      <td>Messenger – Text and Video Chat for Free</td>\n",
              "      <td>1,000,000,000+</td>\n",
              "    </tr>\n",
              "    <tr>\n",
              "      <th>4234</th>\n",
              "      <td>Skype - free IM &amp; video calls</td>\n",
              "      <td>1,000,000,000+</td>\n",
              "    </tr>\n",
              "    <tr>\n",
              "      <th>1917</th>\n",
              "      <td>Subway Surfers</td>\n",
              "      <td>1,000,000,000+</td>\n",
              "    </tr>\n",
              "    <tr>\n",
              "      <th>381</th>\n",
              "      <td>WhatsApp Messenger</td>\n",
              "      <td>1,000,000,000+</td>\n",
              "    </tr>\n",
              "    <tr>\n",
              "      <th>3665</th>\n",
              "      <td>YouTube</td>\n",
              "      <td>1,000,000,000+</td>\n",
              "    </tr>\n",
              "  </tbody>\n",
              "</table>\n",
              "</div>"
            ],
            "text/plain": [
              "                                           App        Installs\n",
              "2544                                  Facebook  1,000,000,000+\n",
              "451                                      Gmail  1,000,000,000+\n",
              "3234                                    Google  1,000,000,000+\n",
              "411               Google Chrome: Fast & Secure  1,000,000,000+\n",
              "3565                              Google Drive  1,000,000,000+\n",
              "9844                               Google News  1,000,000,000+\n",
              "2884                             Google Photos  1,000,000,000+\n",
              "152                          Google Play Books  1,000,000,000+\n",
              "5856                         Google Play Games  1,000,000,000+\n",
              "3687                   Google Play Movies & TV  1,000,000,000+\n",
              "3232                        Google Street View  1,000,000,000+\n",
              "2554                                   Google+  1,000,000,000+\n",
              "464                                   Hangouts  1,000,000,000+\n",
              "2604                                 Instagram  1,000,000,000+\n",
              "3223                 Maps - Navigate & Explore  1,000,000,000+\n",
              "382   Messenger – Text and Video Chat for Free  1,000,000,000+\n",
              "4234             Skype - free IM & video calls  1,000,000,000+\n",
              "1917                            Subway Surfers  1,000,000,000+\n",
              "381                         WhatsApp Messenger  1,000,000,000+\n",
              "3665                                   YouTube  1,000,000,000+"
            ]
          },
          "metadata": {
            "tags": []
          },
          "execution_count": 52
        }
      ]
    },
    {
      "cell_type": "markdown",
      "metadata": {
        "id": "_KpDDGGT9RbZ"
      },
      "source": [
        "# Постройте график, позволяющий понять, как распределен рейтинг приложений в самых популярных категориях"
      ]
    },
    {
      "cell_type": "code",
      "metadata": {
        "colab": {
          "base_uri": "https://localhost:8080/"
        },
        "id": "S8eWVIrS913e",
        "outputId": "741a57b3-40ab-450f-b072-555ea1f01e35"
      },
      "source": [
        "q['Category'][0:5]"
      ],
      "execution_count": 53,
      "outputs": [
        {
          "output_type": "execute_result",
          "data": {
            "text/plain": [
              "0       FAMILY\n",
              "1         GAME\n",
              "2        TOOLS\n",
              "3      FINANCE\n",
              "4    LIFESTYLE\n",
              "Name: Category, dtype: object"
            ]
          },
          "metadata": {
            "tags": []
          },
          "execution_count": 53
        }
      ]
    },
    {
      "cell_type": "code",
      "metadata": {
        "colab": {
          "base_uri": "https://localhost:8080/",
          "height": 0
        },
        "id": "V5c8OKnjMUdR",
        "outputId": "be681edb-600e-4332-e907-016efbe6b98a"
      },
      "source": [
        "temp = apps[apps.Category.isin(q['Category'][0:5].values)]\n",
        "\n",
        "fig = plt.figure(figsize=(18, 6))\n",
        "ax = sns.boxplot(y = temp.Category, x = temp.Rating, orient=\"h\", order=list(q['Category'][0:5]))\n",
        "ax.set_xlim([3.1, 5.1])\n",
        "ax.set_xlabel(\"Рейтинг\",fontsize=15)\n",
        "ax.set_ylabel(\"Категории\",fontsize=15)\n",
        "plt.title('Распределение рейтинга приложений в самых популярных категориях', fontsize = 16)\n",
        "ax.annotate(str((q['Category'][0:5] + ', ' + q['Num_apps'][0:5].astype(str) + ' apps').values).replace(\"'\", \"\").replace('[','').replace(']','').replace('apps','apps;   '),\n",
        "            xy=(50, -500), xycoords='axes points',xytext = (2, -80),\n",
        "            size=14,\n",
        "            bbox=dict(boxstyle='round', fc='w'))\n",
        "plt.show()"
      ],
      "execution_count": 54,
      "outputs": [
        {
          "output_type": "display_data",
          "data": {
            "image/png": "[encoded data removed]",
            "text/plain": [
              "<Figure size 1296x432 with 1 Axes>"
            ]
          },
          "metadata": {
            "tags": [],
            "needs_background": "light"
          }
        }
      ]
    },
    {
      "cell_type": "markdown",
      "metadata": {
        "id": "HuKohcLLUS-I"
      },
      "source": [
        "# Проверьте гипотезу, что средний рейтинг платных приложений отличается от бесплатных. Обоснуйте свой вывод."
      ]
    },
    {
      "cell_type": "markdown",
      "metadata": {
        "id": "scfZhf9FWVsn"
      },
      "source": [
        "Посмотрим на распределения оценок приложений в данных категориях"
      ]
    },
    {
      "cell_type": "code",
      "metadata": {
        "colab": {
          "base_uri": "https://localhost:8080/",
          "height": 0
        },
        "id": "E_HZsa-MU80o",
        "outputId": "c365802c-6643-4568-8427-6ad34179dda8"
      },
      "source": [
        "fig, axs = plt.subplots(1,2,figsize=(14,6))\n",
        "fig.suptitle('Распределение рейтинга приложений', fontsize = 16)\n",
        "axs[0].hist(apps[apps.Is_paid == 0].Rating.values)\n",
        "axs[0].set_title('Бесплатные приложения')\n",
        "axs[0].set_xlabel('Рейтинг')\n",
        "axs[0].set_ylabel('Количество наблюдений')\n",
        "axs[1].hist(apps[apps.Is_paid == 1].Rating.values)\n",
        "axs[1].set_title('Платные приложения')\n",
        "axs[1].set_xlabel('Рейтинг')\n",
        "axs[1].set_ylabel('Количество наблюдений')\n",
        "\n",
        "plt.show()"
      ],
      "execution_count": 55,
      "outputs": [
        {
          "output_type": "display_data",
          "data": {
            "image/png": "[encoded data removed]",
            "text/plain": [
              "<Figure size 1008x432 with 2 Axes>"
            ]
          },
          "metadata": {
            "tags": [],
            "needs_background": "light"
          }
        }
      ]
    },
    {
      "cell_type": "markdown",
      "metadata": {
        "id": "anUUQzVlWbqY"
      },
      "source": [
        "Как мы видим, распределения имеют явную правостороннюю симметрию. \\\n",
        "Возьмём от них экспоненту"
      ]
    },
    {
      "cell_type": "code",
      "metadata": {
        "colab": {
          "base_uri": "https://localhost:8080/",
          "height": 0
        },
        "id": "hnAsv_WMMM9o",
        "outputId": "90a1a9a0-7e9a-49c1-859e-d8029007402b"
      },
      "source": [
        "fig, axs = plt.subplots(1,2,figsize=(14,6))\n",
        "fig.suptitle('Распределение экспоненты рейтинга приложений', fontsize = 16)\n",
        "axs[0].hist(np.exp(apps[apps.Is_paid == 0].Rating.values))\n",
        "axs[0].set_title('Бесплатные приложения')\n",
        "axs[0].set_xlabel('Экспонента рейтинга')\n",
        "axs[0].set_ylabel('Количество наблюдений')\n",
        "axs[1].hist(np.exp(apps[apps.Is_paid == 1].Rating.values))\n",
        "axs[1].set_title('Платные приложения')\n",
        "axs[1].set_xlabel('Экспонента рейтинга')\n",
        "axs[1].set_ylabel('Количество наблюдений')\n",
        "plt.show()"
      ],
      "execution_count": 56,
      "outputs": [
        {
          "output_type": "display_data",
          "data": {
            "image/png": "[encoded data removed]",
            "text/plain": [
              "<Figure size 1008x432 with 2 Axes>"
            ]
          },
          "metadata": {
            "tags": [],
            "needs_background": "light"
          }
        }
      ]
    },
    {
      "cell_type": "code",
      "metadata": {
        "colab": {
          "base_uri": "https://localhost:8080/"
        },
        "id": "F9oCWQf6X_4n",
        "outputId": "a2e78074-3747-4cf3-88cf-aac6a0b55a80"
      },
      "source": [
        "np.var(np.exp(apps[apps.Is_paid == 1].Rating.values)),np.var(np.exp(apps[apps.Is_paid == 0].Rating.values))"
      ],
      "execution_count": 57,
      "outputs": [
        {
          "output_type": "execute_result",
          "data": {
            "text/plain": [
              "(1016.2268286590487, 870.3377923305017)"
            ]
          },
          "metadata": {
            "tags": []
          },
          "execution_count": 57
        }
      ]
    },
    {
      "cell_type": "markdown",
      "metadata": {
        "id": "1dmnwShPW9So"
      },
      "source": [
        "Экспонента рейтинга в обеих категориях имеет форму, близкую к нормальному распределению. \\\n",
        "Дисперсии обеих выборок приблизительно равны.\\\n",
        "В таком случае выборки удовлетворяют условиям T-теста Стьюдента, и мы можем применять данный T-критерий, чтобы сравнить средние обеих выборок."
      ]
    },
    {
      "cell_type": "code",
      "metadata": {
        "colab": {
          "base_uri": "https://localhost:8080/"
        },
        "id": "3ImpaI8jfHcd",
        "outputId": "3fabd72c-a653-4c46-803b-bee7e6348a13"
      },
      "source": [
        "stat, p =scipy.stats.ttest_ind(np.exp(apps[apps.Is_paid == 1].Rating.values), np.exp(apps[apps.Is_paid == 0].Rating.values),equal_var=True)\n",
        "print('P-value равно', p)"
      ],
      "execution_count": 58,
      "outputs": [
        {
          "output_type": "stream",
          "text": [
            "P-value равно 2.5829728095871055e-09\n"
          ],
          "name": "stdout"
        }
      ]
    },
    {
      "cell_type": "code",
      "metadata": {
        "colab": {
          "base_uri": "https://localhost:8080/"
        },
        "id": "-RdNVjwDaGeJ",
        "outputId": "750c96dc-d68d-469f-f045-37020edfb81a"
      },
      "source": [
        "print('Средний рейтинг платных приложений:',round(apps[apps.Is_paid == 1].Rating.mean(),2))\n",
        "print('Средний рейтинг бесплатных приложений:',round(apps[apps.Is_paid == 0].Rating.mean(),2))"
      ],
      "execution_count": 59,
      "outputs": [
        {
          "output_type": "stream",
          "text": [
            "Средний рейтинг платных приложений: 4.26\n",
            "Средний рейтинг бесплатных приложений: 4.17\n"
          ],
          "name": "stdout"
        }
      ]
    },
    {
      "cell_type": "markdown",
      "metadata": {
        "id": "jUxkIQNkacN_"
      },
      "source": [
        "Результаты применения t-теста позволяют нам отвергнуть гипотезу о равенстве двух выборок на 1%-ном уровне значимости. \\\n",
        "Таким образом, средний рейтинг платных приложений значимо выше, чем бесплатных"
      ]
    },
    {
      "cell_type": "markdown",
      "metadata": {
        "id": "VmtB5zKGawTw"
      },
      "source": [
        "# В какой категории приложений больше всего положительно окрашенных отзывов?"
      ]
    },
    {
      "cell_type": "markdown",
      "metadata": {
        "id": "86imSPI3qV47"
      },
      "source": [
        "Объединим наборы данных apps и reviews в один"
      ]
    },
    {
      "cell_type": "code",
      "metadata": {
        "id": "UP_ttJJ0a17W"
      },
      "source": [
        "apps_merged = pd.merge(reviews, apps, on='App')"
      ],
      "execution_count": 60,
      "outputs": []
    },
    {
      "cell_type": "markdown",
      "metadata": {
        "id": "MCsTJF_Iqedq"
      },
      "source": [
        "Как можно заметить, больше всего положительных отзывов имеет категория 'GAME'"
      ]
    },
    {
      "cell_type": "code",
      "metadata": {
        "colab": {
          "base_uri": "https://localhost:8080/"
        },
        "id": "na8-rLdGbPc0",
        "outputId": "b8f070f3-bff5-4fd8-8794-52f0aa35345c"
      },
      "source": [
        "grouped_app_cat = apps_merged[apps_merged.Sentiment == 1].groupby(['App','Category']).Sentiment.size().reset_index()\n",
        "grouped_app_cat.groupby('Category').Sentiment.sum().sort_values(ascending = False).head()"
      ],
      "execution_count": 61,
      "outputs": [
        {
          "output_type": "execute_result",
          "data": {
            "text/plain": [
              "Category\n",
              "GAME                  3358\n",
              "FAMILY                2206\n",
              "HEALTH_AND_FITNESS    1754\n",
              "DATING                1068\n",
              "TRAVEL_AND_LOCAL      1034\n",
              "Name: Sentiment, dtype: int64"
            ]
          },
          "metadata": {
            "tags": []
          },
          "execution_count": 61
        }
      ]
    },
    {
      "cell_type": "markdown",
      "metadata": {
        "id": "PTIyI2sgq3It"
      },
      "source": [
        "Однако в данной ситуации не сделана поправка на количество приложений в каждой из категорий. Посчитаем, какой процент от общего числа отзывов в категории занимают положительные."
      ]
    },
    {
      "cell_type": "code",
      "metadata": {
        "colab": {
          "base_uri": "https://localhost:8080/"
        },
        "id": "xNPioklqb5MB",
        "outputId": "c7c0a141-ad38-4f79-ac40-22ad7310548e"
      },
      "source": [
        "round(100*(apps_merged[apps_merged.Sentiment == 1].groupby(['App','Category']).Sentiment.size().reset_index().groupby('Category').Sentiment.sum()/\n",
        "apps_merged.groupby(['App','Category']).Sentiment.size().reset_index().groupby('Category').Sentiment.sum()).sort_values(ascending = False),1).head()"
      ],
      "execution_count": 62,
      "outputs": [
        {
          "output_type": "execute_result",
          "data": {
            "text/plain": [
              "Category\n",
              "COMICS                86.7\n",
              "AUTO_AND_VEHICLES     81.7\n",
              "EVENTS                79.1\n",
              "HEALTH_AND_FITNESS    78.0\n",
              "EDUCATION             75.2\n",
              "Name: Sentiment, dtype: float64"
            ]
          },
          "metadata": {
            "tags": []
          },
          "execution_count": 62
        }
      ]
    },
    {
      "cell_type": "markdown",
      "metadata": {
        "id": "8uilcLAo4yao"
      },
      "source": [
        "Таблица показывает, что в категории 'COMICS' больше всего положительных отзывов в процентном соотношении. Категория 'GAME', имеющая наибольшее число положительных отзывов, по их процентному соотношению среди всех в категории не попала даже в Топ-5"
      ]
    },
    {
      "cell_type": "markdown",
      "metadata": {
        "id": "kpp19eOaazy-"
      },
      "source": [
        "# Предложите собственную гипотезу и расскажите по ней некую «историю», подкрепив рассказ выводами из данных."
      ]
    },
    {
      "cell_type": "markdown",
      "metadata": {
        "id": "NNQgEpbCi-J4"
      },
      "source": [
        "Гипотеза: \\\n",
        "Приложения, представленные в нескольких жанрах, имеют в среднем больше установок и выше рейтинг"
      ]
    },
    {
      "cell_type": "markdown",
      "metadata": {
        "id": "LhoOToxyjqhh"
      },
      "source": [
        "Такие приложения отличаются наличием ';' в столбце 'Genre'"
      ]
    },
    {
      "cell_type": "markdown",
      "metadata": {
        "id": "rncFp9aLkGIZ"
      },
      "source": [
        "Посмотрим на показатели по мультижанровым приложениям:"
      ]
    },
    {
      "cell_type": "code",
      "metadata": {
        "colab": {
          "base_uri": "https://localhost:8080/"
        },
        "id": "0RPbzlt8kLIo",
        "outputId": "6ed48bf9-4662-469a-c181-cab68f843221"
      },
      "source": [
        "print('Средний рейтинг приложений:', apps[apps.Genres.str.contains(';')].Rating.mean())"
      ],
      "execution_count": 63,
      "outputs": [
        {
          "output_type": "stream",
          "text": [
            "Средний рейтинг приложений: 4.284251968503935\n"
          ],
          "name": "stdout"
        }
      ]
    },
    {
      "cell_type": "code",
      "metadata": {
        "colab": {
          "base_uri": "https://localhost:8080/"
        },
        "id": "JJ1KTgVxkWW4",
        "outputId": "8159380a-c82e-4db9-ed09-fc263ba237c2"
      },
      "source": [
        "print('Средняя кодировка количества установок приложений:', apps[apps.Genres.str.contains(';')].Installs1.mean())"
      ],
      "execution_count": 64,
      "outputs": [
        {
          "output_type": "stream",
          "text": [
            "Средняя кодировка количества установок приложений: 12.196850393700787\n"
          ],
          "name": "stdout"
        }
      ]
    },
    {
      "cell_type": "code",
      "metadata": {
        "colab": {
          "base_uri": "https://localhost:8080/"
        },
        "id": "LkVrBW3mkiUh",
        "outputId": "c15bc4f3-400b-4f23-de10-8a1413cf6e2b"
      },
      "source": [
        "print('Общее число приложений:', len(apps[apps.Genres.str.contains(';')].Rating))"
      ],
      "execution_count": 65,
      "outputs": [
        {
          "output_type": "stream",
          "text": [
            "Общее число приложений: 381\n"
          ],
          "name": "stdout"
        }
      ]
    },
    {
      "cell_type": "markdown",
      "metadata": {
        "id": "Us-JY3OJljtn"
      },
      "source": [
        "Приложения, имеющие только 1 жанр:"
      ]
    },
    {
      "cell_type": "code",
      "metadata": {
        "colab": {
          "base_uri": "https://localhost:8080/"
        },
        "id": "6s9X8w6Ilp0_",
        "outputId": "124d5c3b-9430-4c3b-dadf-31c71b826942"
      },
      "source": [
        "print('Средний рейтинг приложений:', apps[apps.Genres.str.contains(';') == False].Rating.mean())"
      ],
      "execution_count": 66,
      "outputs": [
        {
          "output_type": "stream",
          "text": [
            "Средний рейтинг приложений: 4.167592474081665\n"
          ],
          "name": "stdout"
        }
      ]
    },
    {
      "cell_type": "code",
      "metadata": {
        "colab": {
          "base_uri": "https://localhost:8080/"
        },
        "id": "IvDsBweQlvNr",
        "outputId": "f784535a-4ebf-467b-8cc6-c511f917074c"
      },
      "source": [
        "print('Средняя кодировка количества установок приложений:', apps[apps.Genres.str.contains(';') == False].Installs1.mean())"
      ],
      "execution_count": 67,
      "outputs": [
        {
          "output_type": "stream",
          "text": [
            "Средняя кодировка количества установок приложений: 11.071291437348009\n"
          ],
          "name": "stdout"
        }
      ]
    },
    {
      "cell_type": "code",
      "metadata": {
        "colab": {
          "base_uri": "https://localhost:8080/"
        },
        "id": "xwtISGNLlxaQ",
        "outputId": "326742e9-d677-4272-8205-19380a104ff9"
      },
      "source": [
        "print('Общее число приложений:', len(apps[apps.Genres.str.contains(';') == False].Rating))"
      ],
      "execution_count": 68,
      "outputs": [
        {
          "output_type": "stream",
          "text": [
            "Общее число приложений: 7813\n"
          ],
          "name": "stdout"
        }
      ]
    },
    {
      "cell_type": "markdown",
      "metadata": {
        "id": "qs_ptDuJmMCp"
      },
      "source": [
        "Можем заметить, что хоть мультижанровых приложений и меньше, их рейтинг и количество установок в среднем выше, чем у одножанровых приложений"
      ]
    },
    {
      "cell_type": "markdown",
      "metadata": {
        "id": "oqxS3a8-m0Ws"
      },
      "source": [
        "Как мы видим, распределение экспоненты рейтинга приложений и в случае мультижанровых, и в случае одножанровых приложений практически нормально, что позволяет нам сравнить их средние с помощью t-критерия Стьюдента.\\\n",
        "Дисперсии выборок различны, поэтому сделаем в тесте на это поправку."
      ]
    },
    {
      "cell_type": "code",
      "metadata": {
        "colab": {
          "base_uri": "https://localhost:8080/"
        },
        "id": "T8xrjvf6oUvJ",
        "outputId": "fc536062-e963-49ab-c5bf-c022d48eb4fb"
      },
      "source": [
        "np.var(np.exp(apps[apps.Genres.str.contains(';')].Rating.values)), np.var(np.exp(apps[apps.Genres.str.contains(';') == False].Rating.values))"
      ],
      "execution_count": 69,
      "outputs": [
        {
          "output_type": "execute_result",
          "data": {
            "text/plain": [
              "(452.140333121014, 905.4457021668154)"
            ]
          },
          "metadata": {
            "tags": []
          },
          "execution_count": 69
        }
      ]
    },
    {
      "cell_type": "code",
      "metadata": {
        "colab": {
          "base_uri": "https://localhost:8080/",
          "height": 0
        },
        "id": "X04qbkGJnAVB",
        "outputId": "74a41307-cba7-4a4e-a6ca-2f568eab9483"
      },
      "source": [
        "fig, axs = plt.subplots(1,2,figsize=(14,6))\n",
        "fig.suptitle('Распределение экспоненты рейтинга приложений', fontsize = 16)\n",
        "axs[0].hist(np.exp(apps[apps.Genres.str.contains(';')].Rating.values))\n",
        "axs[0].set_title('Мультижанровые приложения')\n",
        "axs[0].set_xlabel('Экспонента рейтинга')\n",
        "axs[0].set_ylabel('Количество наблюдений')\n",
        "axs[1].hist(np.exp(apps[apps.Genres.str.contains(';') == False].Rating.values))\n",
        "axs[1].set_title('Одножанровые приложения')\n",
        "axs[1].set_xlabel('Экспонента рейтинга')\n",
        "axs[1].set_ylabel('Количество наблюдений')\n",
        "plt.show()"
      ],
      "execution_count": 70,
      "outputs": [
        {
          "output_type": "display_data",
          "data": {
            "image/png": "[encoded data removed]",
            "text/plain": [
              "<Figure size 1008x432 with 2 Axes>"
            ]
          },
          "metadata": {
            "tags": [],
            "needs_background": "light"
          }
        }
      ]
    },
    {
      "cell_type": "code",
      "metadata": {
        "colab": {
          "base_uri": "https://localhost:8080/"
        },
        "id": "GmVs_haPoira",
        "outputId": "1283c47f-d9fe-4a5d-af98-b95831ed1424"
      },
      "source": [
        "scipy.stats.ttest_ind(np.exp(apps[apps.Genres.str.contains(';')].Rating),np.exp(apps[apps.Genres.str.contains(';') == False].Rating),\n",
        "                      equal_var = False)"
      ],
      "execution_count": 71,
      "outputs": [
        {
          "output_type": "execute_result",
          "data": {
            "text/plain": [
              "Ttest_indResult(statistic=3.024756893218238, pvalue=0.0026284163188018536)"
            ]
          },
          "metadata": {
            "tags": []
          },
          "execution_count": 71
        }
      ]
    },
    {
      "cell_type": "markdown",
      "metadata": {
        "id": "96m5TL1po23S"
      },
      "source": [
        "Тест Стьюдента показывает, что на 1%-ном уровне значимости мы можем отвегнуть гипотезу о равенстве средних данных категорий приложений, что означает, что средний рейтинг между ними действительно различен."
      ]
    },
    {
      "cell_type": "markdown",
      "metadata": {
        "id": "4ILCIIgkpRRv"
      },
      "source": [
        "Теперь перейдем к числу установок. \\\n",
        "Будем сравнивать число установок, закодированное в шкалу от 1 до 20, т.к. такой способ менее чувствителен к выбросам (слишком экстремальным значениям).\\\n",
        "Распределение числа установок мультижанровых и одножанровых приложений не похоже на нормальное, поэтому в данном случае используем ранговый тест Манна-Уитни."
      ]
    },
    {
      "cell_type": "code",
      "metadata": {
        "colab": {
          "base_uri": "https://localhost:8080/",
          "height": 0
        },
        "id": "dvi3Q04dnZND",
        "outputId": "c90e4ae3-f221-445f-efe1-958513871060"
      },
      "source": [
        "fig, axs = plt.subplots(1,2,figsize=(14,6))\n",
        "fig.suptitle('Распределение числа установок приложений', fontsize = 16)\n",
        "axs[0].hist(apps[apps.Genres.str.contains(';')].Installs1.values, bins =9)\n",
        "axs[0].set_title('Мультижанровые приложения')\n",
        "axs[0].set_xlabel('Число установок')\n",
        "axs[0].set_ylabel('Количество наблюдений')\n",
        "axs[1].hist(apps[apps.Genres.str.contains(';') == False].Installs1.values,bins = 10)\n",
        "axs[1].set_title('Одножанровые приложения')\n",
        "axs[1].set_xlabel('Число установок')\n",
        "axs[1].set_ylabel('Количество наблюдений')\n",
        "plt.show()"
      ],
      "execution_count": 72,
      "outputs": [
        {
          "output_type": "display_data",
          "data": {
            "image/png": "[encoded data removed]",
            "text/plain": [
              "<Figure size 1008x432 with 2 Axes>"
            ]
          },
          "metadata": {
            "tags": [],
            "needs_background": "light"
          }
        }
      ]
    },
    {
      "cell_type": "code",
      "metadata": {
        "colab": {
          "base_uri": "https://localhost:8080/"
        },
        "id": "g-mxIxnNr-p4",
        "outputId": "da5d55b4-5516-457e-bc0d-0a88cf1ae667"
      },
      "source": [
        "scipy.stats.mannwhitneyu(apps[apps.Genres.str.contains(';')].Installs1.values,apps[apps.Genres.str.contains(';') == False].Installs1.values)"
      ],
      "execution_count": 73,
      "outputs": [
        {
          "output_type": "execute_result",
          "data": {
            "text/plain": [
              "MannwhitneyuResult(statistic=1181012.0, pvalue=3.4473465718296836e-12)"
            ]
          },
          "metadata": {
            "tags": []
          },
          "execution_count": 73
        }
      ]
    },
    {
      "cell_type": "markdown",
      "metadata": {
        "id": "rCUPs2dZsWVQ"
      },
      "source": [
        "Результаты теста показывают, что на 1%-ном уровне значимости гипотезу о равенстве средних данных двух типов приложений можно отклонить, что означает, что мультижанровые приложения действительно имеют большее число установок в среднем, чем одножанровые"
      ]
    },
    {
      "cell_type": "markdown",
      "metadata": {
        "id": "OphrRXgQtMj5"
      },
      "source": [
        "Проверим, не могут ли большее число установок и более высокий рейтинг мультижанровых приложений быть связаны с тем, что они сделаны в самых лучших жанрах и категориях"
      ]
    },
    {
      "cell_type": "markdown",
      "metadata": {
        "id": "jWQIMAVWt0z1"
      },
      "source": [
        "Как мы видим, подавляющее большинство мультижанровых приложений имеет категорию 'FAMILY'"
      ]
    },
    {
      "cell_type": "code",
      "metadata": {
        "colab": {
          "base_uri": "https://localhost:8080/"
        },
        "id": "8HnauvwBieBb",
        "outputId": "b40df5ae-b991-4505-d548-115fb9de433b"
      },
      "source": [
        "apps[apps.Genres.str.contains(';')].loc[:,'Category_ART_AND_DESIGN':'Category_WEATHER'].sum().sort_values(ascending = False)[0:5]"
      ],
      "execution_count": 74,
      "outputs": [
        {
          "output_type": "execute_result",
          "data": {
            "text/plain": [
              "Category_FAMILY            341\n",
              "Category_EDUCATION          13\n",
              "Category_PARENTING          10\n",
              "Category_ENTERTAINMENT       5\n",
              "Category_ART_AND_DESIGN      4\n",
              "dtype: int64"
            ]
          },
          "metadata": {
            "tags": []
          },
          "execution_count": 74
        }
      ]
    },
    {
      "cell_type": "code",
      "metadata": {
        "colab": {
          "base_uri": "https://localhost:8080/"
        },
        "id": "ol6PMjYbisYQ",
        "outputId": "4ac8ebf5-36f1-42f0-8cf7-718c70b228bd"
      },
      "source": [
        "apps[apps.Category == 'FAMILY'].Installs1.mean(), apps[apps.Category != 'FAMILY'].Installs1.mean()"
      ],
      "execution_count": 75,
      "outputs": [
        {
          "output_type": "execute_result",
          "data": {
            "text/plain": [
              "(10.663444108761329, 11.240097874292704)"
            ]
          },
          "metadata": {
            "tags": []
          },
          "execution_count": 75
        }
      ]
    },
    {
      "cell_type": "code",
      "metadata": {
        "colab": {
          "base_uri": "https://localhost:8080/"
        },
        "id": "DSKS9xvHuKxC",
        "outputId": "5618da44-fe87-4b53-d6b5-567492fbfe61"
      },
      "source": [
        "apps[apps.Category == 'FAMILY'].Rating.mean(), apps[apps.Category != 'FAMILY'].Rating.mean()"
      ],
      "execution_count": 76,
      "outputs": [
        {
          "output_type": "execute_result",
          "data": {
            "text/plain": [
              "(4.184229607250755, 4.17017892644136)"
            ]
          },
          "metadata": {
            "tags": []
          },
          "execution_count": 76
        }
      ]
    },
    {
      "cell_type": "markdown",
      "metadata": {
        "id": "pVYzbxjMuWCf"
      },
      "source": [
        "Однако средний рейтинг и среднее число установок приложений данной категории почти не отличаются от средних значений приложений других категорий, следовательно, хорошие показатели мультижанровых приложений нельзя объяснить удачным выбором категории"
      ]
    },
    {
      "cell_type": "markdown",
      "metadata": {
        "id": "i3UuwS47vNXH"
      },
      "source": [
        "Теперь проведем аналогичное исследование жанров мультижанровых приложений"
      ]
    },
    {
      "cell_type": "code",
      "metadata": {
        "colab": {
          "base_uri": "https://localhost:8080/"
        },
        "id": "RxbNFCiHbVvi",
        "outputId": "b946e638-1972-4cc1-9e02-909f846e6ad0"
      },
      "source": [
        "top_multi = apps[apps.Genres.str.contains(';')].loc[:,'Social':'Travel & Local'].sum().sort_values(ascending = False)[0:3]\n",
        "top_multi"
      ],
      "execution_count": 77,
      "outputs": [
        {
          "output_type": "execute_result",
          "data": {
            "text/plain": [
              "Puzzle               24\n",
              "Racing               17\n",
              "Books & Reference     2\n",
              "dtype: int64"
            ]
          },
          "metadata": {
            "tags": []
          },
          "execution_count": 77
        }
      ]
    },
    {
      "cell_type": "code",
      "metadata": {
        "colab": {
          "base_uri": "https://localhost:8080/"
        },
        "id": "L0K6YQ-BwAc9",
        "outputId": "bf97bec9-1197-45bd-e01f-805120cfdf4d"
      },
      "source": [
        "print('Средний рейтинг всех приложений =',round(apps.Rating.mean(),2), 'Среднее количество установок =', round(apps.Installs1.mean(),2),'\\n')\n",
        "print('Самые популярные жанры мультижанровых приложений:')\n",
        "for i in range(len(top_multi.index)):\n",
        "  print('Жанр',top_multi.index[i],', Средний рейтинг', round(apps[apps[top_multi.index[i]] == 1].Rating.mean(),2),'Среднее количество установок',round(apps[apps[top_multi.index[i]] == 1].Installs1.mean(),2))"
      ],
      "execution_count": 78,
      "outputs": [
        {
          "output_type": "stream",
          "text": [
            "Средний рейтинг всех приложений = 4.17 Среднее количество установок = 11.12 \n",
            "\n",
            "Самые популярные жанры мультижанровых приложений:\n",
            "Жанр Puzzle , Средний рейтинг 4.37 Среднее количество установок 12.15\n",
            "Жанр Racing , Средний рейтинг 4.17 Среднее количество установок 13.29\n",
            "Жанр Books & Reference , Средний рейтинг 4.34 Среднее количество установок 10.67\n"
          ],
          "name": "stdout"
        }
      ]
    },
    {
      "cell_type": "markdown",
      "metadata": {
        "id": "QieAIbL_xppP"
      },
      "source": [
        "Как мы можем заметить, самые популярные жанры мультижанровых приложений имеют рейтинг намного выше, чем в среднем по датасету. Это может свидетельствовать о том, что более высокий рейтинг мультижанровых приложений связан с тем, что они намеренно сделаны в лучших жанрах.\\\n",
        "Число установок самых популярных жанров мультижанровых приложений бывает как больше среднего по датасету, так и меньше. Следовательно, гипотеза о том, что большее число установок мультижанровых приложений связано с удачным выбором жанров, является в данном случае менее вероятной. Скорее всего, большее число установок приложений данного типа действительно связано с большим охватом аудитории, получаемым за счёт указания нескольких жанров."
      ]
    },
    {
      "cell_type": "markdown",
      "metadata": {
        "id": "xocn5LfHcms6"
      },
      "source": [
        "# Постройте модель, предсказывающую рейтинг приложения, оцените ее качество."
      ]
    },
    {
      "cell_type": "code",
      "metadata": {
        "id": "dm9qvNHxcn8V"
      },
      "source": [
        "from sklearn.linear_model import LinearRegression\n",
        "import sklearn\n",
        "from sklearn.model_selection import train_test_split\n",
        "from sklearn.metrics import mean_absolute_error\n",
        "from sklearn.metrics import mean_squared_error\n",
        "from sklearn import linear_model\n",
        "from sklearn.linear_model import  LassoLarsIC"
      ],
      "execution_count": 79,
      "outputs": []
    },
    {
      "cell_type": "code",
      "metadata": {
        "id": "Rci_T_0ccr91"
      },
      "source": [
        "pd.set_option('display.max_rows', 1000)\n",
        "pd.set_option('display.max_columns', 1000)"
      ],
      "execution_count": 80,
      "outputs": []
    },
    {
      "cell_type": "code",
      "metadata": {
        "id": "DFUvRC6DzKjj"
      },
      "source": [
        "new_apps = apps[apps.columns.drop(['App','Category','Installs','Content Rating','Genres','Last Updated','Genre1','Genre2'])]"
      ],
      "execution_count": 81,
      "outputs": []
    },
    {
      "cell_type": "markdown",
      "metadata": {
        "id": "ujEzOgf2w42z"
      },
      "source": [
        "Посмотрим на корреляцию выходной переменной Rating со всеми другими"
      ]
    },
    {
      "cell_type": "markdown",
      "metadata": {
        "id": "lwn8wUOHxNzq"
      },
      "source": [
        "Заметим, что максимальная корреляция по модулю составляет 0.11\\\n",
        "Это говорит о том, что предсказывать рейтинг достаточно сложно из-за отсутствия его достаточной взаимосвязи с предикторами"
      ]
    },
    {
      "cell_type": "code",
      "metadata": {
        "colab": {
          "base_uri": "https://localhost:8080/"
        },
        "id": "GMBgbzKfvOkS",
        "outputId": "31006310-9b0c-4ef7-ab36-34aeb547877c"
      },
      "source": [
        "abs(new_apps.corr()).iloc[0,:].sort_values(ascending = False)"
      ],
      "execution_count": 82,
      "outputs": [
        {
          "output_type": "execute_result",
          "data": {
            "text/plain": [
              "Rating                          1.000000\n",
              "year                            0.125743\n",
              "Installs1                       0.085618\n",
              "Category_TOOLS                  0.076937\n",
              "Tools                           0.076937\n",
              "Education                       0.057230\n",
              "Personalization                 0.057154\n",
              "Category_PERSONALIZATION        0.057154\n",
              "Reviews                         0.055116\n",
              "Android Ver                     0.053621\n",
              "Size(kB)                        0.052024\n",
              "Category_DATING                 0.048753\n",
              "Dating                          0.048753\n",
              "Category_BOOKS_AND_REFERENCE    0.046508\n",
              "Books & Reference               0.046327\n",
              "Category_GAME                   0.045904\n",
              "Puzzle                          0.045733\n",
              "Is_paid                         0.045361\n",
              "Category_EDUCATION              0.038290\n",
              "Entertainment                   0.038086\n",
              "Events                          0.036362\n",
              "Category_EVENTS                 0.036362\n",
              "Installs2                       0.035034\n",
              "Rating_Teen                     0.034721\n",
              "Video Players & Editors         0.032667\n",
              "Category_VIDEO_PLAYERS          0.032480\n",
              "Brain Games                     0.030907\n",
              "Category_MAPS_AND_NAVIGATION    0.030769\n",
              "Maps & Navigation               0.030769\n",
              "Arcade                          0.029692\n",
              "Category_ART_AND_DESIGN         0.029571\n",
              "Category_TRAVEL_AND_LOCAL       0.029479\n",
              "Travel & Local                  0.029479\n",
              "Category_LIFESTYLE              0.028994\n",
              "Art & Design                    0.028802\n",
              "Lifestyle                       0.028795\n",
              "Action                          0.027322\n",
              "Rating_Everyone                 0.026638\n",
              "Category_BUSINESS               0.025298\n",
              "Business                        0.025298\n",
              "Action & Adventure              0.023443\n",
              "Health & Fitness                0.023110\n",
              "Category_HEALTH_AND_FITNESS     0.022862\n",
              "Social                          0.022064\n",
              "Category_SOCIAL                 0.022064\n",
              "Role Playing                    0.021635\n",
              "Price                           0.021182\n",
              "Category_FINANCE                0.020947\n",
              "Finance                         0.020947\n",
              "Rating_Mature 17+               0.020354\n",
              "Rating_Everyone 10+             0.019381\n",
              "Category_PARENTING              0.018544\n",
              "Parenting                       0.018544\n",
              "Sports                          0.017948\n",
              "Board                           0.017893\n",
              "Category_COMMUNICATION          0.017248\n",
              "Communication                   0.017181\n",
              "Category_SHOPPING               0.016072\n",
              "Shopping                        0.016072\n",
              "Creativity                      0.015549\n",
              "News & Magazines                0.015322\n",
              "Category_NEWS_AND_MAGAZINES     0.015322\n",
              "Trivia                          0.014595\n",
              "Educational                     0.014581\n",
              "Category_SPORTS                 0.014554\n",
              "Casino                          0.014243\n",
              "Category_BEAUTY                 0.014121\n",
              "Beauty                          0.014121\n",
              "Word                            0.014038\n",
              "Card                            0.013574\n",
              "Category_WEATHER                0.012291\n",
              "Weather                         0.012291\n",
              "month                           0.011457\n",
              "Pretend Play                    0.011120\n",
              "Strategy                        0.010971\n",
              "day                             0.010672\n",
              "Category_FAMILY                 0.010514\n",
              "Casual                          0.010324\n",
              "Category_ENTERTAINMENT          0.008436\n",
              "Content_Rating1                 0.008225\n",
              "Music & Video                   0.006434\n",
              "Simulation                      0.005459\n",
              "Photography                     0.005295\n",
              "Category_PHOTOGRAPHY            0.005295\n",
              "Category_HOUSE_AND_HOME         0.005171\n",
              "House & Home                    0.005171\n",
              "Rating_Adults only 18+          0.004529\n",
              "Music                           0.004349\n",
              "Productivity                    0.003775\n",
              "Category_PRODUCTIVITY           0.003775\n",
              "Adventure                       0.003290\n",
              "Category_AUTO_AND_VEHICLES      0.003074\n",
              "Auto & Vehicles                 0.003074\n",
              "Music & Audio                   0.002615\n",
              "Category_MEDICAL                0.002308\n",
              "Medical                         0.002308\n",
              "Rating_Unrated                  0.001503\n",
              "Comics                          0.001285\n",
              "Category_COMICS                 0.001285\n",
              "Current Ver                     0.001160\n",
              "Category_LIBRARIES_AND_DEMO     0.000845\n",
              "Libraries & Demo                0.000845\n",
              "Racing                          0.000366\n",
              "Food & Drink                    0.000349\n",
              "Category_FOOD_AND_DRINK         0.000349\n",
              "Name: Rating, dtype: float64"
            ]
          },
          "metadata": {
            "tags": []
          },
          "execution_count": 82
        }
      ]
    },
    {
      "cell_type": "markdown",
      "metadata": {
        "id": "gt287vug22DF"
      },
      "source": [
        "Удалим признаки, которые повторяют/ почти повторяют другие "
      ]
    },
    {
      "cell_type": "code",
      "metadata": {
        "id": "agAT_tb1zXrS"
      },
      "source": [
        "new_apps = new_apps[new_apps.columns.drop(['Category_TOOLS','Category_PERSONALIZATION','Category_BOOKS_AND_REFERENCE',\n",
        "                                       'Category_DATING','Category_EVENTS','Category_VIDEO_PLAYERS','Category_MAPS_AND_NAVIGATION',\n",
        "                                       'Category_TRAVEL_AND_LOCAL','Category_ART_AND_DESIGN','Category_LIFESTYLE',\n",
        "                                       'Category_HEALTH_AND_FITNESS','Category_FINANCE','Category_SOCIAL','Category_PARENTING',\n",
        "                                       'Category_COMMUNICATION','Category_BEAUTY','Category_SHOPPING',\n",
        "                                       'Category_NEWS_AND_MAGAZINES','Category_WEATHER','Category_PHOTOGRAPHY',\n",
        "                                       'Category_BUSINESS','Category_PRODUCTIVITY','Category_HOUSE_AND_HOME',\n",
        "                                       'Category_MEDICAL','Category_LIBRARIES_AND_DEMO','Category_AUTO_AND_VEHICLES','Category_COMICS',\n",
        "                                       'Category_FOOD_AND_DRINK','Category_SPORTS'])]"
      ],
      "execution_count": 83,
      "outputs": []
    },
    {
      "cell_type": "code",
      "metadata": {
        "colab": {
          "base_uri": "https://localhost:8080/",
          "height": 266
        },
        "id": "tJIoIeNgyjNS",
        "outputId": "e15ea2ac-b962-4f17-8098-50e4e47e52b8"
      },
      "source": [
        "new_apps.head()"
      ],
      "execution_count": 84,
      "outputs": [
        {
          "output_type": "execute_result",
          "data": {
            "text/html": [
              "<div>\n",
              "<style scoped>\n",
              "    .dataframe tbody tr th:only-of-type {\n",
              "        vertical-align: middle;\n",
              "    }\n",
              "\n",
              "    .dataframe tbody tr th {\n",
              "        vertical-align: top;\n",
              "    }\n",
              "\n",
              "    .dataframe thead th {\n",
              "        text-align: right;\n",
              "    }\n",
              "</style>\n",
              "<table border=\"1\" class=\"dataframe\">\n",
              "  <thead>\n",
              "    <tr style=\"text-align: right;\">\n",
              "      <th></th>\n",
              "      <th>Rating</th>\n",
              "      <th>Reviews</th>\n",
              "      <th>Size(kB)</th>\n",
              "      <th>Price</th>\n",
              "      <th>Current Ver</th>\n",
              "      <th>Android Ver</th>\n",
              "      <th>Category_EDUCATION</th>\n",
              "      <th>Category_ENTERTAINMENT</th>\n",
              "      <th>Category_FAMILY</th>\n",
              "      <th>Category_GAME</th>\n",
              "      <th>Installs1</th>\n",
              "      <th>Installs2</th>\n",
              "      <th>Is_paid</th>\n",
              "      <th>Content_Rating1</th>\n",
              "      <th>Rating_Adults only 18+</th>\n",
              "      <th>Rating_Everyone</th>\n",
              "      <th>Rating_Everyone 10+</th>\n",
              "      <th>Rating_Mature 17+</th>\n",
              "      <th>Rating_Teen</th>\n",
              "      <th>Rating_Unrated</th>\n",
              "      <th>Beauty</th>\n",
              "      <th>Events</th>\n",
              "      <th>Board</th>\n",
              "      <th>Maps &amp; Navigation</th>\n",
              "      <th>Lifestyle</th>\n",
              "      <th>Art &amp; Design</th>\n",
              "      <th>Health &amp; Fitness</th>\n",
              "      <th>Brain Games</th>\n",
              "      <th>News &amp; Magazines</th>\n",
              "      <th>Shopping</th>\n",
              "      <th>Educational</th>\n",
              "      <th>Business</th>\n",
              "      <th>House &amp; Home</th>\n",
              "      <th>Finance</th>\n",
              "      <th>Music</th>\n",
              "      <th>Role Playing</th>\n",
              "      <th>Auto &amp; Vehicles</th>\n",
              "      <th>Trivia</th>\n",
              "      <th>Video Players &amp; Editors</th>\n",
              "      <th>Adventure</th>\n",
              "      <th>Food &amp; Drink</th>\n",
              "      <th>Arcade</th>\n",
              "      <th>Personalization</th>\n",
              "      <th>Action &amp; Adventure</th>\n",
              "      <th>Creativity</th>\n",
              "      <th>Word</th>\n",
              "      <th>Card</th>\n",
              "      <th>Pretend Play</th>\n",
              "      <th>Libraries &amp; Demo</th>\n",
              "      <th>Productivity</th>\n",
              "      <th>Entertainment</th>\n",
              "      <th>Sports</th>\n",
              "      <th>Simulation</th>\n",
              "      <th>Strategy</th>\n",
              "      <th>Music &amp; Audio</th>\n",
              "      <th>Parenting</th>\n",
              "      <th>Dating</th>\n",
              "      <th>Social</th>\n",
              "      <th>Books &amp; Reference</th>\n",
              "      <th>Racing</th>\n",
              "      <th>Tools</th>\n",
              "      <th>Casino</th>\n",
              "      <th>Puzzle</th>\n",
              "      <th>Travel &amp; Local</th>\n",
              "      <th>Education</th>\n",
              "      <th>Weather</th>\n",
              "      <th>Comics</th>\n",
              "      <th>Action</th>\n",
              "      <th>Communication</th>\n",
              "      <th>Casual</th>\n",
              "      <th>Photography</th>\n",
              "      <th>Music &amp; Video</th>\n",
              "      <th>Medical</th>\n",
              "      <th>year</th>\n",
              "      <th>month</th>\n",
              "      <th>day</th>\n",
              "    </tr>\n",
              "  </thead>\n",
              "  <tbody>\n",
              "    <tr>\n",
              "      <th>0</th>\n",
              "      <td>4.1</td>\n",
              "      <td>159</td>\n",
              "      <td>19456.0</td>\n",
              "      <td>0.0</td>\n",
              "      <td>1.000000</td>\n",
              "      <td>4.0</td>\n",
              "      <td>0</td>\n",
              "      <td>0</td>\n",
              "      <td>0</td>\n",
              "      <td>0</td>\n",
              "      <td>9</td>\n",
              "      <td>30000.0</td>\n",
              "      <td>0</td>\n",
              "      <td>1</td>\n",
              "      <td>0</td>\n",
              "      <td>1</td>\n",
              "      <td>0</td>\n",
              "      <td>0</td>\n",
              "      <td>0</td>\n",
              "      <td>0</td>\n",
              "      <td>0</td>\n",
              "      <td>0</td>\n",
              "      <td>0</td>\n",
              "      <td>0</td>\n",
              "      <td>0</td>\n",
              "      <td>1</td>\n",
              "      <td>0</td>\n",
              "      <td>0</td>\n",
              "      <td>0</td>\n",
              "      <td>0</td>\n",
              "      <td>0</td>\n",
              "      <td>0</td>\n",
              "      <td>0</td>\n",
              "      <td>0</td>\n",
              "      <td>0</td>\n",
              "      <td>0</td>\n",
              "      <td>0</td>\n",
              "      <td>0</td>\n",
              "      <td>0</td>\n",
              "      <td>0</td>\n",
              "      <td>0</td>\n",
              "      <td>0</td>\n",
              "      <td>0</td>\n",
              "      <td>0</td>\n",
              "      <td>0</td>\n",
              "      <td>0</td>\n",
              "      <td>0</td>\n",
              "      <td>0</td>\n",
              "      <td>0</td>\n",
              "      <td>0</td>\n",
              "      <td>0</td>\n",
              "      <td>0</td>\n",
              "      <td>0</td>\n",
              "      <td>0</td>\n",
              "      <td>0</td>\n",
              "      <td>0</td>\n",
              "      <td>0</td>\n",
              "      <td>0</td>\n",
              "      <td>0</td>\n",
              "      <td>0</td>\n",
              "      <td>0</td>\n",
              "      <td>0</td>\n",
              "      <td>0</td>\n",
              "      <td>0</td>\n",
              "      <td>0</td>\n",
              "      <td>0</td>\n",
              "      <td>0</td>\n",
              "      <td>0</td>\n",
              "      <td>0</td>\n",
              "      <td>0</td>\n",
              "      <td>0</td>\n",
              "      <td>0</td>\n",
              "      <td>0</td>\n",
              "      <td>2018</td>\n",
              "      <td>1</td>\n",
              "      <td>7</td>\n",
              "    </tr>\n",
              "    <tr>\n",
              "      <th>2</th>\n",
              "      <td>4.7</td>\n",
              "      <td>87510</td>\n",
              "      <td>8908.8</td>\n",
              "      <td>0.0</td>\n",
              "      <td>1.000000</td>\n",
              "      <td>4.0</td>\n",
              "      <td>0</td>\n",
              "      <td>0</td>\n",
              "      <td>0</td>\n",
              "      <td>0</td>\n",
              "      <td>14</td>\n",
              "      <td>7500000.0</td>\n",
              "      <td>0</td>\n",
              "      <td>1</td>\n",
              "      <td>0</td>\n",
              "      <td>1</td>\n",
              "      <td>0</td>\n",
              "      <td>0</td>\n",
              "      <td>0</td>\n",
              "      <td>0</td>\n",
              "      <td>0</td>\n",
              "      <td>0</td>\n",
              "      <td>0</td>\n",
              "      <td>0</td>\n",
              "      <td>0</td>\n",
              "      <td>1</td>\n",
              "      <td>0</td>\n",
              "      <td>0</td>\n",
              "      <td>0</td>\n",
              "      <td>0</td>\n",
              "      <td>0</td>\n",
              "      <td>0</td>\n",
              "      <td>0</td>\n",
              "      <td>0</td>\n",
              "      <td>0</td>\n",
              "      <td>0</td>\n",
              "      <td>0</td>\n",
              "      <td>0</td>\n",
              "      <td>0</td>\n",
              "      <td>0</td>\n",
              "      <td>0</td>\n",
              "      <td>0</td>\n",
              "      <td>0</td>\n",
              "      <td>0</td>\n",
              "      <td>0</td>\n",
              "      <td>0</td>\n",
              "      <td>0</td>\n",
              "      <td>0</td>\n",
              "      <td>0</td>\n",
              "      <td>0</td>\n",
              "      <td>0</td>\n",
              "      <td>0</td>\n",
              "      <td>0</td>\n",
              "      <td>0</td>\n",
              "      <td>0</td>\n",
              "      <td>0</td>\n",
              "      <td>0</td>\n",
              "      <td>0</td>\n",
              "      <td>0</td>\n",
              "      <td>0</td>\n",
              "      <td>0</td>\n",
              "      <td>0</td>\n",
              "      <td>0</td>\n",
              "      <td>0</td>\n",
              "      <td>0</td>\n",
              "      <td>0</td>\n",
              "      <td>0</td>\n",
              "      <td>0</td>\n",
              "      <td>0</td>\n",
              "      <td>0</td>\n",
              "      <td>0</td>\n",
              "      <td>0</td>\n",
              "      <td>0</td>\n",
              "      <td>2018</td>\n",
              "      <td>8</td>\n",
              "      <td>1</td>\n",
              "    </tr>\n",
              "    <tr>\n",
              "      <th>3</th>\n",
              "      <td>4.5</td>\n",
              "      <td>215644</td>\n",
              "      <td>25600.0</td>\n",
              "      <td>0.0</td>\n",
              "      <td>2.228955</td>\n",
              "      <td>4.0</td>\n",
              "      <td>0</td>\n",
              "      <td>0</td>\n",
              "      <td>0</td>\n",
              "      <td>0</td>\n",
              "      <td>16</td>\n",
              "      <td>75000000.0</td>\n",
              "      <td>0</td>\n",
              "      <td>2</td>\n",
              "      <td>0</td>\n",
              "      <td>0</td>\n",
              "      <td>0</td>\n",
              "      <td>0</td>\n",
              "      <td>1</td>\n",
              "      <td>0</td>\n",
              "      <td>0</td>\n",
              "      <td>0</td>\n",
              "      <td>0</td>\n",
              "      <td>0</td>\n",
              "      <td>0</td>\n",
              "      <td>1</td>\n",
              "      <td>0</td>\n",
              "      <td>0</td>\n",
              "      <td>0</td>\n",
              "      <td>0</td>\n",
              "      <td>0</td>\n",
              "      <td>0</td>\n",
              "      <td>0</td>\n",
              "      <td>0</td>\n",
              "      <td>0</td>\n",
              "      <td>0</td>\n",
              "      <td>0</td>\n",
              "      <td>0</td>\n",
              "      <td>0</td>\n",
              "      <td>0</td>\n",
              "      <td>0</td>\n",
              "      <td>0</td>\n",
              "      <td>0</td>\n",
              "      <td>0</td>\n",
              "      <td>0</td>\n",
              "      <td>0</td>\n",
              "      <td>0</td>\n",
              "      <td>0</td>\n",
              "      <td>0</td>\n",
              "      <td>0</td>\n",
              "      <td>0</td>\n",
              "      <td>0</td>\n",
              "      <td>0</td>\n",
              "      <td>0</td>\n",
              "      <td>0</td>\n",
              "      <td>0</td>\n",
              "      <td>0</td>\n",
              "      <td>0</td>\n",
              "      <td>0</td>\n",
              "      <td>0</td>\n",
              "      <td>0</td>\n",
              "      <td>0</td>\n",
              "      <td>0</td>\n",
              "      <td>0</td>\n",
              "      <td>0</td>\n",
              "      <td>0</td>\n",
              "      <td>0</td>\n",
              "      <td>0</td>\n",
              "      <td>0</td>\n",
              "      <td>0</td>\n",
              "      <td>0</td>\n",
              "      <td>0</td>\n",
              "      <td>0</td>\n",
              "      <td>2018</td>\n",
              "      <td>6</td>\n",
              "      <td>8</td>\n",
              "    </tr>\n",
              "    <tr>\n",
              "      <th>4</th>\n",
              "      <td>4.3</td>\n",
              "      <td>967</td>\n",
              "      <td>2867.2</td>\n",
              "      <td>0.0</td>\n",
              "      <td>1.000000</td>\n",
              "      <td>4.0</td>\n",
              "      <td>0</td>\n",
              "      <td>0</td>\n",
              "      <td>0</td>\n",
              "      <td>0</td>\n",
              "      <td>11</td>\n",
              "      <td>300000.0</td>\n",
              "      <td>0</td>\n",
              "      <td>1</td>\n",
              "      <td>0</td>\n",
              "      <td>1</td>\n",
              "      <td>0</td>\n",
              "      <td>0</td>\n",
              "      <td>0</td>\n",
              "      <td>0</td>\n",
              "      <td>0</td>\n",
              "      <td>0</td>\n",
              "      <td>0</td>\n",
              "      <td>0</td>\n",
              "      <td>0</td>\n",
              "      <td>1</td>\n",
              "      <td>0</td>\n",
              "      <td>0</td>\n",
              "      <td>0</td>\n",
              "      <td>0</td>\n",
              "      <td>0</td>\n",
              "      <td>0</td>\n",
              "      <td>0</td>\n",
              "      <td>0</td>\n",
              "      <td>0</td>\n",
              "      <td>0</td>\n",
              "      <td>0</td>\n",
              "      <td>0</td>\n",
              "      <td>0</td>\n",
              "      <td>0</td>\n",
              "      <td>0</td>\n",
              "      <td>0</td>\n",
              "      <td>0</td>\n",
              "      <td>0</td>\n",
              "      <td>1</td>\n",
              "      <td>0</td>\n",
              "      <td>0</td>\n",
              "      <td>0</td>\n",
              "      <td>0</td>\n",
              "      <td>0</td>\n",
              "      <td>0</td>\n",
              "      <td>0</td>\n",
              "      <td>0</td>\n",
              "      <td>0</td>\n",
              "      <td>0</td>\n",
              "      <td>0</td>\n",
              "      <td>0</td>\n",
              "      <td>0</td>\n",
              "      <td>0</td>\n",
              "      <td>0</td>\n",
              "      <td>0</td>\n",
              "      <td>0</td>\n",
              "      <td>0</td>\n",
              "      <td>0</td>\n",
              "      <td>0</td>\n",
              "      <td>0</td>\n",
              "      <td>0</td>\n",
              "      <td>0</td>\n",
              "      <td>0</td>\n",
              "      <td>0</td>\n",
              "      <td>0</td>\n",
              "      <td>0</td>\n",
              "      <td>0</td>\n",
              "      <td>2018</td>\n",
              "      <td>6</td>\n",
              "      <td>20</td>\n",
              "    </tr>\n",
              "    <tr>\n",
              "      <th>5</th>\n",
              "      <td>4.4</td>\n",
              "      <td>167</td>\n",
              "      <td>5734.4</td>\n",
              "      <td>0.0</td>\n",
              "      <td>1.000000</td>\n",
              "      <td>2.0</td>\n",
              "      <td>0</td>\n",
              "      <td>0</td>\n",
              "      <td>0</td>\n",
              "      <td>0</td>\n",
              "      <td>10</td>\n",
              "      <td>75000.0</td>\n",
              "      <td>0</td>\n",
              "      <td>1</td>\n",
              "      <td>0</td>\n",
              "      <td>1</td>\n",
              "      <td>0</td>\n",
              "      <td>0</td>\n",
              "      <td>0</td>\n",
              "      <td>0</td>\n",
              "      <td>0</td>\n",
              "      <td>0</td>\n",
              "      <td>0</td>\n",
              "      <td>0</td>\n",
              "      <td>0</td>\n",
              "      <td>1</td>\n",
              "      <td>0</td>\n",
              "      <td>0</td>\n",
              "      <td>0</td>\n",
              "      <td>0</td>\n",
              "      <td>0</td>\n",
              "      <td>0</td>\n",
              "      <td>0</td>\n",
              "      <td>0</td>\n",
              "      <td>0</td>\n",
              "      <td>0</td>\n",
              "      <td>0</td>\n",
              "      <td>0</td>\n",
              "      <td>0</td>\n",
              "      <td>0</td>\n",
              "      <td>0</td>\n",
              "      <td>0</td>\n",
              "      <td>0</td>\n",
              "      <td>0</td>\n",
              "      <td>0</td>\n",
              "      <td>0</td>\n",
              "      <td>0</td>\n",
              "      <td>0</td>\n",
              "      <td>0</td>\n",
              "      <td>0</td>\n",
              "      <td>0</td>\n",
              "      <td>0</td>\n",
              "      <td>0</td>\n",
              "      <td>0</td>\n",
              "      <td>0</td>\n",
              "      <td>0</td>\n",
              "      <td>0</td>\n",
              "      <td>0</td>\n",
              "      <td>0</td>\n",
              "      <td>0</td>\n",
              "      <td>0</td>\n",
              "      <td>0</td>\n",
              "      <td>0</td>\n",
              "      <td>0</td>\n",
              "      <td>0</td>\n",
              "      <td>0</td>\n",
              "      <td>0</td>\n",
              "      <td>0</td>\n",
              "      <td>0</td>\n",
              "      <td>0</td>\n",
              "      <td>0</td>\n",
              "      <td>0</td>\n",
              "      <td>0</td>\n",
              "      <td>2017</td>\n",
              "      <td>3</td>\n",
              "      <td>26</td>\n",
              "    </tr>\n",
              "  </tbody>\n",
              "</table>\n",
              "</div>"
            ],
            "text/plain": [
              "   Rating  Reviews  Size(kB)  Price  Current Ver  Android Ver  \\\n",
              "0     4.1      159   19456.0    0.0     1.000000          4.0   \n",
              "2     4.7    87510    8908.8    0.0     1.000000          4.0   \n",
              "3     4.5   215644   25600.0    0.0     2.228955          4.0   \n",
              "4     4.3      967    2867.2    0.0     1.000000          4.0   \n",
              "5     4.4      167    5734.4    0.0     1.000000          2.0   \n",
              "\n",
              "   Category_EDUCATION  Category_ENTERTAINMENT  Category_FAMILY  Category_GAME  \\\n",
              "0                   0                       0                0              0   \n",
              "2                   0                       0                0              0   \n",
              "3                   0                       0                0              0   \n",
              "4                   0                       0                0              0   \n",
              "5                   0                       0                0              0   \n",
              "\n",
              "   Installs1   Installs2  Is_paid  Content_Rating1  Rating_Adults only 18+  \\\n",
              "0          9     30000.0        0                1                       0   \n",
              "2         14   7500000.0        0                1                       0   \n",
              "3         16  75000000.0        0                2                       0   \n",
              "4         11    300000.0        0                1                       0   \n",
              "5         10     75000.0        0                1                       0   \n",
              "\n",
              "   Rating_Everyone  Rating_Everyone 10+  Rating_Mature 17+  Rating_Teen  \\\n",
              "0                1                    0                  0            0   \n",
              "2                1                    0                  0            0   \n",
              "3                0                    0                  0            1   \n",
              "4                1                    0                  0            0   \n",
              "5                1                    0                  0            0   \n",
              "\n",
              "   Rating_Unrated  Beauty  Events  Board  Maps & Navigation  Lifestyle  \\\n",
              "0               0       0       0      0                  0          0   \n",
              "2               0       0       0      0                  0          0   \n",
              "3               0       0       0      0                  0          0   \n",
              "4               0       0       0      0                  0          0   \n",
              "5               0       0       0      0                  0          0   \n",
              "\n",
              "   Art & Design  Health & Fitness  Brain Games  News & Magazines  Shopping  \\\n",
              "0             1                 0            0                 0         0   \n",
              "2             1                 0            0                 0         0   \n",
              "3             1                 0            0                 0         0   \n",
              "4             1                 0            0                 0         0   \n",
              "5             1                 0            0                 0         0   \n",
              "\n",
              "   Educational  Business  House & Home  Finance  Music  Role Playing  \\\n",
              "0            0         0             0        0      0             0   \n",
              "2            0         0             0        0      0             0   \n",
              "3            0         0             0        0      0             0   \n",
              "4            0         0             0        0      0             0   \n",
              "5            0         0             0        0      0             0   \n",
              "\n",
              "   Auto & Vehicles  Trivia  Video Players & Editors  Adventure  Food & Drink  \\\n",
              "0                0       0                        0          0             0   \n",
              "2                0       0                        0          0             0   \n",
              "3                0       0                        0          0             0   \n",
              "4                0       0                        0          0             0   \n",
              "5                0       0                        0          0             0   \n",
              "\n",
              "   Arcade  Personalization  Action & Adventure  Creativity  Word  Card  \\\n",
              "0       0                0                   0           0     0     0   \n",
              "2       0                0                   0           0     0     0   \n",
              "3       0                0                   0           0     0     0   \n",
              "4       0                0                   0           1     0     0   \n",
              "5       0                0                   0           0     0     0   \n",
              "\n",
              "   Pretend Play  Libraries & Demo  Productivity  Entertainment  Sports  \\\n",
              "0             0                 0             0              0       0   \n",
              "2             0                 0             0              0       0   \n",
              "3             0                 0             0              0       0   \n",
              "4             0                 0             0              0       0   \n",
              "5             0                 0             0              0       0   \n",
              "\n",
              "   Simulation  Strategy  Music & Audio  Parenting  Dating  Social  \\\n",
              "0           0         0              0          0       0       0   \n",
              "2           0         0              0          0       0       0   \n",
              "3           0         0              0          0       0       0   \n",
              "4           0         0              0          0       0       0   \n",
              "5           0         0              0          0       0       0   \n",
              "\n",
              "   Books & Reference  Racing  Tools  Casino  Puzzle  Travel & Local  \\\n",
              "0                  0       0      0       0       0               0   \n",
              "2                  0       0      0       0       0               0   \n",
              "3                  0       0      0       0       0               0   \n",
              "4                  0       0      0       0       0               0   \n",
              "5                  0       0      0       0       0               0   \n",
              "\n",
              "   Education  Weather  Comics  Action  Communication  Casual  Photography  \\\n",
              "0          0        0       0       0              0       0            0   \n",
              "2          0        0       0       0              0       0            0   \n",
              "3          0        0       0       0              0       0            0   \n",
              "4          0        0       0       0              0       0            0   \n",
              "5          0        0       0       0              0       0            0   \n",
              "\n",
              "   Music & Video  Medical  year  month  day  \n",
              "0              0        0  2018      1    7  \n",
              "2              0        0  2018      8    1  \n",
              "3              0        0  2018      6    8  \n",
              "4              0        0  2018      6   20  \n",
              "5              0        0  2017      3   26  "
            ]
          },
          "metadata": {
            "tags": []
          },
          "execution_count": 84
        }
      ]
    },
    {
      "cell_type": "markdown",
      "metadata": {
        "id": "Mj6rGU8T_ZGz"
      },
      "source": [
        "Посмотрим, между какими предикторами сильная корреляция. Возможно, какие-то из них могут быть удалены"
      ]
    },
    {
      "cell_type": "code",
      "metadata": {
        "colab": {
          "base_uri": "https://localhost:8080/"
        },
        "id": "qyOsOJzY6lTb",
        "outputId": "5b6a6bf1-5291-4b4c-f9bf-f59043c5146a"
      },
      "source": [
        "for i in range(len(new_apps.columns)):\n",
        "  for j in range(i):\n",
        "    if(new_apps[new_apps.columns[i]].corr(new_apps[new_apps.columns[j]]) > 0.3):\n",
        "      print(new_apps.columns[i],new_apps.columns[j],new_apps[new_apps.columns[i]].corr(new_apps[new_apps.columns[j]]))"
      ],
      "execution_count": 85,
      "outputs": [
        {
          "output_type": "stream",
          "text": [
            "Category_GAME Size(kB) 0.3236865826607604\n",
            "Installs2 Reviews 0.6122850342720773\n",
            "Rating_Everyone 10+ Content_Rating1 0.4431210832915993\n",
            "Rating_Mature 17+ Content_Rating1 0.7669504540790307\n",
            "Rating_Teen Content_Rating1 0.3234043875195262\n",
            "Arcade Category_GAME 0.3971543627332255\n",
            "Entertainment Category_ENTERTAINMENT 0.4031439389676733\n",
            "Entertainment Category_FAMILY 0.3987850710015998\n",
            "Dating Content_Rating1 0.43239227754257464\n",
            "Dating Rating_Mature 17+ 0.5616996544266445\n",
            "Education Category_EDUCATION 0.4091943015781909\n",
            "Education Category_FAMILY 0.3904391423055385\n",
            "Action Category_GAME 0.5377849153061852\n",
            "year Android Ver 0.5057364936497001\n"
          ],
          "name": "stdout"
        }
      ]
    },
    {
      "cell_type": "markdown",
      "metadata": {
        "id": "xAn-Pj1zBjfJ"
      },
      "source": [
        "Проверим несколько вариантов кодирования категориальных переменных и выберем наилучший"
      ]
    },
    {
      "cell_type": "code",
      "metadata": {
        "id": "q84JhmKk1aUZ"
      },
      "source": [
        "pos_col = [['Rating','Reviews','Installs1','Content_Rating1'],\n",
        "           ['Rating','Reviews','Installs1','Rating_Adults only 18+','Rating_Everyone','Rating_Everyone 10+','Rating_Mature 17+','Rating_Teen','Rating_Unrated'],\n",
        "           ['Rating','Reviews','Installs2','Rating_Adults only 18+','Rating_Everyone','Rating_Everyone 10+','Rating_Mature 17+','Rating_Teen','Rating_Unrated'],\n",
        "           ['Rating','Reviews','Installs2','Content_Rating1']]"
      ],
      "execution_count": 86,
      "outputs": []
    },
    {
      "cell_type": "code",
      "metadata": {
        "id": "LxGuMlGv1aaK"
      },
      "source": [
        "y = new_apps.loc[:,'Rating']\n",
        "\n",
        "reg = LinearRegression()"
      ],
      "execution_count": 87,
      "outputs": []
    },
    {
      "cell_type": "code",
      "metadata": {
        "colab": {
          "base_uri": "https://localhost:8080/"
        },
        "id": "iNwajesh1adT",
        "outputId": "89215895-e8b5-4911-bd73-9378849936ce"
      },
      "source": [
        "for i in range(len(pos_col)):\n",
        "  x = new_apps.drop(pos_col[i],axis = 1)\n",
        "  x_train, x_test, y_train, y_test = train_test_split(x, y, test_size=0.20, random_state=42)\n",
        "  model = reg.fit(x_train, y_train)\n",
        "  y_pred = reg.predict(x_test)\n",
        "  params = np.append(reg.intercept_,reg.coef_)\n",
        "  print(i,round(sklearn.metrics.r2_score(y_test, y_pred),4))"
      ],
      "execution_count": 88,
      "outputs": [
        {
          "output_type": "stream",
          "text": [
            "0 0.0341\n",
            "1 0.0342\n",
            "2 0.0376\n",
            "3 0.0374\n"
          ],
          "name": "stdout"
        }
      ]
    },
    {
      "cell_type": "markdown",
      "metadata": {
        "id": "4c2McViR4vg0"
      },
      "source": [
        "Наилучший результат по метрике R^2 показывает модель со 2 набором предикторов"
      ]
    },
    {
      "cell_type": "code",
      "metadata": {
        "id": "3TizAtIfvLtD"
      },
      "source": [
        "x = new_apps.drop(pos_col[2],axis = 1)"
      ],
      "execution_count": 89,
      "outputs": []
    },
    {
      "cell_type": "code",
      "metadata": {
        "id": "EzUBSN3ndfk7"
      },
      "source": [
        "x_train, x_test, y_train, y_test = train_test_split(x, y, test_size=0.20, random_state=42)"
      ],
      "execution_count": 90,
      "outputs": []
    },
    {
      "cell_type": "code",
      "metadata": {
        "id": "CsRtJ0JJeiTF"
      },
      "source": [
        "model = reg.fit(x_train, y_train)"
      ],
      "execution_count": 91,
      "outputs": []
    },
    {
      "cell_type": "code",
      "metadata": {
        "id": "rZRbIHu3e5YG"
      },
      "source": [
        "y_pred = reg.predict(x_test)"
      ],
      "execution_count": 92,
      "outputs": []
    },
    {
      "cell_type": "code",
      "metadata": {
        "id": "cjIwmBoNe5rS"
      },
      "source": [
        "params = np.append(reg.intercept_,reg.coef_)"
      ],
      "execution_count": 93,
      "outputs": []
    },
    {
      "cell_type": "code",
      "metadata": {
        "colab": {
          "base_uri": "https://localhost:8080/"
        },
        "id": "-S0n2IG8gRpV",
        "outputId": "255bd40c-cd23-4ac3-9adc-f4517c811a14"
      },
      "source": [
        "mae = mean_absolute_error(y_test, y_pred)\n",
        "mse = mean_squared_error(y_test, y_pred)\n",
        "print('Mean absolute error = ', mae)\n",
        "print('Mean squared error = ', mse)"
      ],
      "execution_count": 94,
      "outputs": [
        {
          "output_type": "stream",
          "text": [
            "Mean absolute error =  0.3707764544501665\n",
            "Mean squared error =  0.2728679623213507\n"
          ],
          "name": "stdout"
        }
      ]
    },
    {
      "cell_type": "code",
      "metadata": {
        "colab": {
          "base_uri": "https://localhost:8080/"
        },
        "id": "WpRvpDBKgdoz",
        "outputId": "c9b175d8-7bae-4832-9a3a-79ce2683d3d3"
      },
      "source": [
        "sklearn.metrics.r2_score(y_test, y_pred)"
      ],
      "execution_count": 95,
      "outputs": [
        {
          "output_type": "execute_result",
          "data": {
            "text/plain": [
              "0.03756881718676708"
            ]
          },
          "metadata": {
            "tags": []
          },
          "execution_count": 95
        }
      ]
    },
    {
      "cell_type": "code",
      "metadata": {
        "colab": {
          "base_uri": "https://localhost:8080/"
        },
        "id": "6aqeLJ3Hhhre",
        "outputId": "96e72465-3522-4f37-c217-a0450a30fe3c"
      },
      "source": [
        "model.score(x_train,y_train)"
      ],
      "execution_count": 96,
      "outputs": [
        {
          "output_type": "execute_result",
          "data": {
            "text/plain": [
              "0.0661280354197562"
            ]
          },
          "metadata": {
            "tags": []
          },
          "execution_count": 96
        }
      ]
    },
    {
      "cell_type": "markdown",
      "metadata": {
        "id": "Rp7gGz_TBwO4"
      },
      "source": [
        "Наилучшая модель показала R^2 = 0.036, что является очень низким показателем качества модели. По сути данный результат близок к нулевому: R^2 модели, предсказывающей среднее значение выходной переменной = 0.\\\n",
        "Такое плохое качество модели неудивительно: рейтинг приложения предсказать практически невозможно по косвенным признакам. Важно качество реализации приложения, в данном датасете не представленное"
      ]
    },
    {
      "cell_type": "code",
      "metadata": {
        "colab": {
          "base_uri": "https://localhost:8080/"
        },
        "id": "PqRJLnhpCRmk",
        "outputId": "366db2ea-954b-4197-8a3d-a617ac17a13b"
      },
      "source": [
        "# Lasso regularization\n",
        "clf = linear_model.Lasso(alpha=0.05)\n",
        "clf.fit(x_train, y_train)"
      ],
      "execution_count": 97,
      "outputs": [
        {
          "output_type": "execute_result",
          "data": {
            "text/plain": [
              "Lasso(alpha=0.05, copy_X=True, fit_intercept=True, max_iter=1000,\n",
              "      normalize=False, positive=False, precompute=False, random_state=None,\n",
              "      selection='cyclic', tol=0.0001, warm_start=False)"
            ]
          },
          "metadata": {
            "tags": []
          },
          "execution_count": 97
        }
      ]
    },
    {
      "cell_type": "code",
      "metadata": {
        "id": "tWIVxbGACfg5"
      },
      "source": [
        "model_aic = LassoLarsIC(criterion='aic')\n",
        "model_aic.fit(x_train, y_train)\n",
        "alpha_aic_ = model_aic.coef_"
      ],
      "execution_count": 98,
      "outputs": []
    },
    {
      "cell_type": "code",
      "metadata": {
        "colab": {
          "base_uri": "https://localhost:8080/"
        },
        "id": "ddE3ZWM3CglP",
        "outputId": "d2a90489-c3f1-4f6d-a486-65ca9b95de9d"
      },
      "source": [
        "y_pred_lasso = clf.predict(x_test)\n",
        "y_pred_lasso_aic = model_aic.predict(x_test)\n",
        "mae_lasso = mean_absolute_error(y_test, y_pred_lasso)\n",
        "mse_lasso = mean_squared_error(y_test, y_pred_lasso)\n",
        "mae_lasso_aic = mean_absolute_error(y_test, y_pred_lasso_aic)\n",
        "print('Mean absolute error Lasso = ', mae_lasso)\n",
        "print('Mean squared error Lasso = ', mse_lasso)"
      ],
      "execution_count": 99,
      "outputs": [
        {
          "output_type": "stream",
          "text": [
            "Mean absolute error Lasso =  0.38062668450117604\n",
            "Mean squared error Lasso =  0.280636761385428\n"
          ],
          "name": "stdout"
        }
      ]
    },
    {
      "cell_type": "code",
      "metadata": {
        "colab": {
          "base_uri": "https://localhost:8080/"
        },
        "id": "wzMBC-zfC5OP",
        "outputId": "e2c53cac-8b4a-472f-c9c2-a976d050c365"
      },
      "source": [
        "sklearn.metrics.r2_score(y_test, y_pred_lasso)"
      ],
      "execution_count": 100,
      "outputs": [
        {
          "output_type": "execute_result",
          "data": {
            "text/plain": [
              "0.01016752606900373"
            ]
          },
          "metadata": {
            "tags": []
          },
          "execution_count": 100
        }
      ]
    },
    {
      "cell_type": "markdown",
      "metadata": {
        "id": "r3ucdnXVDEH4"
      },
      "source": [
        "R^2 линейной регрессии с Лассо-регуляризацией = 0.01. Применение Лассо-регуляризации к данной задаче неоправдано"
      ]
    },
    {
      "cell_type": "markdown",
      "metadata": {
        "id": "eM9l_DY3Dd2W"
      },
      "source": [
        "Попробуем построить линейную регрессию со стандартизированными значениями"
      ]
    },
    {
      "cell_type": "code",
      "metadata": {
        "id": "AKJf7x_iDc1X"
      },
      "source": [
        "from sklearn import preprocessing\n",
        "\n",
        "norm = preprocessing.StandardScaler()\n",
        "norm.fit(x_train)\n",
        "x_sc_train = norm.transform(x_train)\n",
        "x_sc_train = pd.DataFrame(x_sc_train, index=x_train.index, columns = x_train.columns)\n",
        "\n",
        "norm = preprocessing.StandardScaler()\n",
        "norm.fit(x_test)\n",
        "x_sc_test = norm.transform(x_test)\n",
        "x_sc_test = pd.DataFrame(x_sc_test, index=x_test.index, columns = x_test.columns)"
      ],
      "execution_count": 101,
      "outputs": []
    },
    {
      "cell_type": "code",
      "metadata": {
        "id": "78i2WrKZE2Hj"
      },
      "source": [
        "reg = LinearRegression()"
      ],
      "execution_count": 102,
      "outputs": []
    },
    {
      "cell_type": "code",
      "metadata": {
        "id": "5CgOY9U5E6RN"
      },
      "source": [
        "model = reg.fit(x_sc_train, y_train)"
      ],
      "execution_count": 103,
      "outputs": []
    },
    {
      "cell_type": "code",
      "metadata": {
        "id": "e-puQhIHE6p3"
      },
      "source": [
        "y_pred = reg.predict(x_sc_test)"
      ],
      "execution_count": 104,
      "outputs": []
    },
    {
      "cell_type": "code",
      "metadata": {
        "id": "TYWzK6VRE6s2"
      },
      "source": [
        "params = np.append(reg.intercept_,reg.coef_)"
      ],
      "execution_count": 105,
      "outputs": []
    },
    {
      "cell_type": "code",
      "metadata": {
        "colab": {
          "base_uri": "https://localhost:8080/"
        },
        "id": "-Ae8o6ucE_wK",
        "outputId": "4740ec51-662d-4000-ac15-66eea3145236"
      },
      "source": [
        "mae = mean_absolute_error(y_test, y_pred)\n",
        "mse = mean_squared_error(y_test, y_pred)\n",
        "print('Mean absolute error = ', mae)\n",
        "print('Mean squared error = ', mse)"
      ],
      "execution_count": 106,
      "outputs": [
        {
          "output_type": "stream",
          "text": [
            "Mean absolute error =  0.37218359923707883\n",
            "Mean squared error =  0.2731399244175675\n"
          ],
          "name": "stdout"
        }
      ]
    },
    {
      "cell_type": "code",
      "metadata": {
        "colab": {
          "base_uri": "https://localhost:8080/"
        },
        "id": "CeuaHhZrE_zJ",
        "outputId": "e72b8d0d-113d-426a-aa79-a27b0d184d2d"
      },
      "source": [
        "sklearn.metrics.r2_score(y_test, y_pred)"
      ],
      "execution_count": 107,
      "outputs": [
        {
          "output_type": "execute_result",
          "data": {
            "text/plain": [
              "0.03660958107961998"
            ]
          },
          "metadata": {
            "tags": []
          },
          "execution_count": 107
        }
      ]
    },
    {
      "cell_type": "markdown",
      "metadata": {
        "id": "ehIjIeguFRXp"
      },
      "source": [
        "Модель со стандартизированными значениями показала коэффициент детерминации меньше, чем без стандартизации. \\\n",
        "Следовательно, в данной задаче стандартизацию лучше не проводить"
      ]
    },
    {
      "cell_type": "code",
      "metadata": {
        "id": "rZIoiQieFqYm"
      },
      "source": [
        "x = new_apps.drop(pos_col[2],axis = 1)\n",
        "x_train, x_test, y_train, y_test = train_test_split(x, y, test_size=0.20, random_state=42)\n",
        "model = reg.fit(x_train, y_train)\n",
        "y_pred = reg.predict(x_test)\n",
        "params = np.append(reg.intercept_,reg.coef_)\n",
        "\n",
        "xx = []\n",
        "for i in range(len(y_test)):\n",
        "    xx.append(i)"
      ],
      "execution_count": 108,
      "outputs": []
    },
    {
      "cell_type": "code",
      "metadata": {
        "colab": {
          "base_uri": "https://localhost:8080/",
          "height": 572
        },
        "id": "0jjiSzVAgzZt",
        "outputId": "15bf4f99-4df3-4651-a773-2db8d35b5d1a"
      },
      "source": [
        "# Распределение остатков наилучшей модели\n",
        "plt.figure(figsize=(10, 8))\n",
        "y_pred_all = np.array(reg.predict(x_test))\n",
        "y1 = np.array(y_test)\n",
        "y2 = np.array(y_pred_all)\n",
        "y_diff = y1 - y2\n",
        "sns.distplot(y_diff, kde=False)\n",
        "plt.title('Распределение остатков',fontsize = 15)\n",
        "plt.xlabel('Разность фактических и предсказанных значений',fontsize = 12)\n",
        "plt.ylabel('Количество наблюденией',fontsize = 12)\n",
        "plt.show()"
      ],
      "execution_count": 109,
      "outputs": [
        {
          "output_type": "stream",
          "text": [
            "/usr/local/lib/python3.7/dist-packages/seaborn/distributions.py:2557: FutureWarning: `distplot` is a deprecated function and will be removed in a future version. Please adapt your code to use either `displot` (a figure-level function with similar flexibility) or `histplot` (an axes-level function for histograms).\n",
            "  warnings.warn(msg, FutureWarning)\n"
          ],
          "name": "stderr"
        },
        {
          "output_type": "display_data",
          "data": {
            "image/png": "[encoded data removed]",
            "text/plain": [
              "<Figure size 720x576 with 1 Axes>"
            ]
          },
          "metadata": {
            "tags": [],
            "needs_background": "light"
          }
        }
      ]
    },
    {
      "cell_type": "markdown",
      "metadata": {
        "id": "sskSJ5bhGq-Y"
      },
      "source": [
        "Можем заметить, что левый хвост гистограмы тяжелее, чем правый.\\\n",
        "Это говорит о том, что модель стремиться предсказывать в среднем значения больше, чем есть на самом деле. Маленькие значения рейтинга предсказываются хуже, чем большие"
      ]
    },
    {
      "cell_type": "markdown",
      "metadata": {
        "id": "tJEVIkdcISSp"
      },
      "source": [
        "Это видно и на следующей диаграмме.\\\n",
        "Также диаграмма показывает, что построенная модель стремится выдать значения в узком диапазоне и не пытается угадать слишком большие или слишком маленькие значения рейтинга. Это говорит о ее плохом качестве и низкой предсказательной силе."
      ]
    },
    {
      "cell_type": "code",
      "metadata": {
        "colab": {
          "base_uri": "https://localhost:8080/",
          "height": 585
        },
        "id": "7u4thrw5hAH-",
        "outputId": "062a8dc8-2f7f-44e0-92e3-400c589d3984"
      },
      "source": [
        "plt.figure(figsize=(10, 8))\n",
        "plt.scatter(xx, y_test, label = u'Реальные значения рейтинга')\n",
        "plt.scatter(xx, y_pred, label = u'Предсказанные значения рейтинга')\n",
        "plt.title(u'Точечная диаграмма реальных и предсказанных значений рейтинга')\n",
        "plt.legend(loc=\"center right\",borderaxespad=0.1, bbox_to_anchor=(0.7, -0.2))\n",
        "plt.xlabel(u'Номер наблюдения')\n",
        "plt.ylabel(u'Рейтинг')\n",
        "plt.show()"
      ],
      "execution_count": 110,
      "outputs": [
        {
          "output_type": "display_data",
          "data": {
            "image/png": "[encoded data removed]",
            "text/plain": [
              "<Figure size 720x576 with 1 Axes>"
            ]
          },
          "metadata": {
            "tags": [],
            "needs_background": "light"
          }
        }
      ]
    }
  ]
}